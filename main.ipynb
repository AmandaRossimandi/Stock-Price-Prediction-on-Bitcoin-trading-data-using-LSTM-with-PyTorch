{
  "nbformat": 4,
  "nbformat_minor": 0,
  "metadata": {
    "colab": {
      "name": "main.ipynb",
      "provenance": [],
      "collapsed_sections": [],
      "machine_shape": "hm",
      "include_colab_link": true
    },
    "kernelspec": {
      "name": "python3",
      "display_name": "Python 3"
    }
  },
  "cells": [
    {
      "cell_type": "markdown",
      "metadata": {
        "id": "view-in-github",
        "colab_type": "text"
      },
      "source": [
        "<a href=\"https://colab.research.google.com/github/ThisuriLekamge/Stock-Price-Prediction-on-Bitcoin-trading-data-using-LSTM-with-PyTorch/blob/master/main.ipynb\" target=\"_parent\"><img src=\"https://colab.research.google.com/assets/colab-badge.svg\" alt=\"Open In Colab\"/></a>"
      ]
    },
    {
      "cell_type": "code",
      "metadata": {
        "id": "C5qLkKDOMkrI",
        "colab_type": "code",
        "colab": {}
      },
      "source": [
        "%matplotlib inline\n",
        "import glob\n",
        "import matplotlib\n",
        "import numpy as np\n",
        "import pandas as pd\n",
        "import sklearn\n",
        "import torch\n"
      ],
      "execution_count": 0,
      "outputs": []
    },
    {
      "cell_type": "code",
      "metadata": {
        "id": "vfqaAk3bHmEb",
        "colab_type": "code",
        "colab": {
          "base_uri": "https://localhost:8080/",
          "height": 104
        },
        "outputId": "d9db7c02-3037-4c23-ba1f-a7f37aa643c6"
      },
      "source": [
        "#print(\"python version %s\"% python_version())\n",
        "print(\"pandas==%s\" % pd.__version__)\n",
        "print(\"numpy==%s\" % np.__version__)\n",
        "print(\"sklearn==%s\" % sklearn.__version__)\n",
        "print(\"torch==%s\" % torch.__version__)\n",
        "print(\"matplotlib==%s\" % matplotlib.__version__)"
      ],
      "execution_count": 5,
      "outputs": [
        {
          "output_type": "stream",
          "text": [
            "pandas==0.25.3\n",
            "numpy==1.17.4\n",
            "sklearn==0.21.3\n",
            "torch==1.3.1\n",
            "matplotlib==3.1.2\n"
          ],
          "name": "stdout"
        }
      ]
    },
    {
      "cell_type": "code",
      "metadata": {
        "id": "xa0K8KejJvxR",
        "colab_type": "code",
        "colab": {}
      },
      "source": [
        "import matplotlib.pyplot as plt\n",
        "plt.rcParams[\"figure.facecolor\"]=\"w\""
      ],
      "execution_count": 0,
      "outputs": []
    },
    {
      "cell_type": "markdown",
      "metadata": {
        "id": "JcT9nnqoLkYI",
        "colab_type": "text"
      },
      "source": [
        "**Now download data from BitMex** (The Bitcoin Mercantile Exchange) -> https://www.bitmex.com/app/trade/XBTUSD\n",
        "\n",
        "**Retrieve bitmex/binance data**\n",
        "link - https://github.com/BitMEX/easy-data-scripts\n",
        "\n",
        "https://medium.com/swlh/retrieving-full-historical-data-for-every-cryptocurrency-on-binance-bitmex-using-the-python-apis-27b47fd8137f\n",
        "\n"
      ]
    },
    {
      "cell_type": "code",
      "metadata": {
        "id": "PDICBCO0kQln",
        "colab_type": "code",
        "colab": {
          "resources": {
            "http://localhost:8080/nbextensions/google.colab/files.js": {
              "data": "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",
              "ok": true,
              "headers": [
                [
                  "content-type",
                  "application/javascript"
                ]
              ],
              "status": 200,
              "status_text": "OK"
            }
          },
          "base_uri": "https://localhost:8080/",
          "height": 82
        },
        "outputId": "020f2f71-ae98-4a6b-dfc0-5796dbc85bdd"
      },
      "source": [
        "from google.colab import files\n",
        "uploaded = files.upload()"
      ],
      "execution_count": 3,
      "outputs": [
        {
          "output_type": "display_data",
          "data": {
            "text/html": [
              "\n",
              "     <input type=\"file\" id=\"files-25b7e2ed-31b2-492c-899a-0971da003bec\" name=\"files[]\" multiple disabled />\n",
              "     <output id=\"result-25b7e2ed-31b2-492c-899a-0971da003bec\">\n",
              "      Upload widget is only available when the cell has been executed in the\n",
              "      current browser session. Please rerun this cell to enable.\n",
              "      </output>\n",
              "      <script src=\"/nbextensions/google.colab/files.js\"></script> "
            ],
            "text/plain": [
              "<IPython.core.display.HTML object>"
            ]
          },
          "metadata": {
            "tags": []
          }
        },
        {
          "output_type": "stream",
          "text": [
            "Saving XBTUSD-5m-data.csv to XBTUSD-5m-data.csv\n"
          ],
          "name": "stdout"
        }
      ]
    },
    {
      "cell_type": "code",
      "metadata": {
        "id": "HW1tVIqmkZoU",
        "colab_type": "code",
        "colab": {}
      },
      "source": [
        "df = pd.read_csv(\"./XBTUSD-5m-data.csv\")"
      ],
      "execution_count": 0,
      "outputs": []
    },
    {
      "cell_type": "code",
      "metadata": {
        "id": "YldxwbPwqHmp",
        "colab_type": "code",
        "colab": {
          "base_uri": "https://localhost:8080/",
          "height": 34
        },
        "outputId": "e4cb4828-9f38-4c0e-b8ce-4bb62fce9944"
      },
      "source": [
        "df.shape\n"
      ],
      "execution_count": 77,
      "outputs": [
        {
          "output_type": "execute_result",
          "data": {
            "text/plain": [
              "(444941, 13)"
            ]
          },
          "metadata": {
            "tags": []
          },
          "execution_count": 77
        }
      ]
    },
    {
      "cell_type": "code",
      "metadata": {
        "id": "cK32REsCqO8H",
        "colab_type": "code",
        "colab": {}
      },
      "source": [
        "df.timestamp = pd.to_datetime(df.timestamp.str.replace('D', 'T'))\n",
        "df = df.sort_values('timestamp')\n"
      ],
      "execution_count": 0,
      "outputs": []
    },
    {
      "cell_type": "code",
      "metadata": {
        "id": "hQOThM8mqo2i",
        "colab_type": "code",
        "colab": {}
      },
      "source": [
        "df.set_index('timestamp', inplace=True) #set to index\n"
      ],
      "execution_count": 0,
      "outputs": []
    },
    {
      "cell_type": "code",
      "metadata": {
        "id": "pbEN8YXfqqF0",
        "colab_type": "code",
        "colab": {
          "base_uri": "https://localhost:8080/",
          "height": 237
        },
        "outputId": "57df066c-5abc-4adf-c4e9-bd909d55efdc"
      },
      "source": [
        "df.head()"
      ],
      "execution_count": 80,
      "outputs": [
        {
          "output_type": "execute_result",
          "data": {
            "text/html": [
              "<div>\n",
              "<style scoped>\n",
              "    .dataframe tbody tr th:only-of-type {\n",
              "        vertical-align: middle;\n",
              "    }\n",
              "\n",
              "    .dataframe tbody tr th {\n",
              "        vertical-align: top;\n",
              "    }\n",
              "\n",
              "    .dataframe thead th {\n",
              "        text-align: right;\n",
              "    }\n",
              "</style>\n",
              "<table border=\"1\" class=\"dataframe\">\n",
              "  <thead>\n",
              "    <tr style=\"text-align: right;\">\n",
              "      <th></th>\n",
              "      <th>symbol</th>\n",
              "      <th>open</th>\n",
              "      <th>high</th>\n",
              "      <th>low</th>\n",
              "      <th>close</th>\n",
              "      <th>trades</th>\n",
              "      <th>volume</th>\n",
              "      <th>vwap</th>\n",
              "      <th>lastSize</th>\n",
              "      <th>turnover</th>\n",
              "      <th>homeNotional</th>\n",
              "      <th>foreignNotional</th>\n",
              "    </tr>\n",
              "    <tr>\n",
              "      <th>timestamp</th>\n",
              "      <th></th>\n",
              "      <th></th>\n",
              "      <th></th>\n",
              "      <th></th>\n",
              "      <th></th>\n",
              "      <th></th>\n",
              "      <th></th>\n",
              "      <th></th>\n",
              "      <th></th>\n",
              "      <th></th>\n",
              "      <th></th>\n",
              "      <th></th>\n",
              "    </tr>\n",
              "  </thead>\n",
              "  <tbody>\n",
              "    <tr>\n",
              "      <th>2015-09-25 12:05:00+00:00</th>\n",
              "      <td>XBTUSD</td>\n",
              "      <td>NaN</td>\n",
              "      <td>NaN</td>\n",
              "      <td>NaN</td>\n",
              "      <td>NaN</td>\n",
              "      <td>0</td>\n",
              "      <td>0</td>\n",
              "      <td>NaN</td>\n",
              "      <td>NaN</td>\n",
              "      <td>0</td>\n",
              "      <td>0.0</td>\n",
              "      <td>0.0</td>\n",
              "    </tr>\n",
              "    <tr>\n",
              "      <th>2015-09-25 12:10:00+00:00</th>\n",
              "      <td>XBTUSD</td>\n",
              "      <td>NaN</td>\n",
              "      <td>NaN</td>\n",
              "      <td>NaN</td>\n",
              "      <td>NaN</td>\n",
              "      <td>0</td>\n",
              "      <td>0</td>\n",
              "      <td>NaN</td>\n",
              "      <td>NaN</td>\n",
              "      <td>0</td>\n",
              "      <td>0.0</td>\n",
              "      <td>0.0</td>\n",
              "    </tr>\n",
              "    <tr>\n",
              "      <th>2015-09-25 12:15:00+00:00</th>\n",
              "      <td>XBTUSD</td>\n",
              "      <td>NaN</td>\n",
              "      <td>NaN</td>\n",
              "      <td>NaN</td>\n",
              "      <td>NaN</td>\n",
              "      <td>0</td>\n",
              "      <td>0</td>\n",
              "      <td>NaN</td>\n",
              "      <td>NaN</td>\n",
              "      <td>0</td>\n",
              "      <td>0.0</td>\n",
              "      <td>0.0</td>\n",
              "    </tr>\n",
              "    <tr>\n",
              "      <th>2015-09-25 12:20:00+00:00</th>\n",
              "      <td>XBTUSD</td>\n",
              "      <td>NaN</td>\n",
              "      <td>NaN</td>\n",
              "      <td>NaN</td>\n",
              "      <td>NaN</td>\n",
              "      <td>0</td>\n",
              "      <td>0</td>\n",
              "      <td>NaN</td>\n",
              "      <td>NaN</td>\n",
              "      <td>0</td>\n",
              "      <td>0.0</td>\n",
              "      <td>0.0</td>\n",
              "    </tr>\n",
              "    <tr>\n",
              "      <th>2015-09-25 12:25:00+00:00</th>\n",
              "      <td>XBTUSD</td>\n",
              "      <td>NaN</td>\n",
              "      <td>NaN</td>\n",
              "      <td>NaN</td>\n",
              "      <td>NaN</td>\n",
              "      <td>0</td>\n",
              "      <td>0</td>\n",
              "      <td>NaN</td>\n",
              "      <td>NaN</td>\n",
              "      <td>0</td>\n",
              "      <td>0.0</td>\n",
              "      <td>0.0</td>\n",
              "    </tr>\n",
              "  </tbody>\n",
              "</table>\n",
              "</div>"
            ],
            "text/plain": [
              "                           symbol  open  ...  homeNotional  foreignNotional\n",
              "timestamp                                ...                               \n",
              "2015-09-25 12:05:00+00:00  XBTUSD   NaN  ...           0.0              0.0\n",
              "2015-09-25 12:10:00+00:00  XBTUSD   NaN  ...           0.0              0.0\n",
              "2015-09-25 12:15:00+00:00  XBTUSD   NaN  ...           0.0              0.0\n",
              "2015-09-25 12:20:00+00:00  XBTUSD   NaN  ...           0.0              0.0\n",
              "2015-09-25 12:25:00+00:00  XBTUSD   NaN  ...           0.0              0.0\n",
              "\n",
              "[5 rows x 12 columns]"
            ]
          },
          "metadata": {
            "tags": []
          },
          "execution_count": 80
        }
      ]
    },
    {
      "cell_type": "code",
      "metadata": {
        "id": "B3SRsNgpqrlh",
        "colab_type": "code",
        "colab": {
          "base_uri": "https://localhost:8080/",
          "height": 237
        },
        "outputId": "a7c2cb3e-fd62-4c29-ad89-8d1b572adc8a"
      },
      "source": [
        "df.tail()"
      ],
      "execution_count": 81,
      "outputs": [
        {
          "output_type": "execute_result",
          "data": {
            "text/html": [
              "<div>\n",
              "<style scoped>\n",
              "    .dataframe tbody tr th:only-of-type {\n",
              "        vertical-align: middle;\n",
              "    }\n",
              "\n",
              "    .dataframe tbody tr th {\n",
              "        vertical-align: top;\n",
              "    }\n",
              "\n",
              "    .dataframe thead th {\n",
              "        text-align: right;\n",
              "    }\n",
              "</style>\n",
              "<table border=\"1\" class=\"dataframe\">\n",
              "  <thead>\n",
              "    <tr style=\"text-align: right;\">\n",
              "      <th></th>\n",
              "      <th>symbol</th>\n",
              "      <th>open</th>\n",
              "      <th>high</th>\n",
              "      <th>low</th>\n",
              "      <th>close</th>\n",
              "      <th>trades</th>\n",
              "      <th>volume</th>\n",
              "      <th>vwap</th>\n",
              "      <th>lastSize</th>\n",
              "      <th>turnover</th>\n",
              "      <th>homeNotional</th>\n",
              "      <th>foreignNotional</th>\n",
              "    </tr>\n",
              "    <tr>\n",
              "      <th>timestamp</th>\n",
              "      <th></th>\n",
              "      <th></th>\n",
              "      <th></th>\n",
              "      <th></th>\n",
              "      <th></th>\n",
              "      <th></th>\n",
              "      <th></th>\n",
              "      <th></th>\n",
              "      <th></th>\n",
              "      <th></th>\n",
              "      <th></th>\n",
              "      <th></th>\n",
              "    </tr>\n",
              "  </thead>\n",
              "  <tbody>\n",
              "    <tr>\n",
              "      <th>2019-12-18 10:05:00+00:00</th>\n",
              "      <td>XBTUSD</td>\n",
              "      <td>6626.5</td>\n",
              "      <td>6627.0</td>\n",
              "      <td>6618.5</td>\n",
              "      <td>6619.5</td>\n",
              "      <td>1867</td>\n",
              "      <td>7701044</td>\n",
              "      <td>6622.0780</td>\n",
              "      <td>50.0</td>\n",
              "      <td>116300429523</td>\n",
              "      <td>1163.004295</td>\n",
              "      <td>7701044.0</td>\n",
              "    </tr>\n",
              "    <tr>\n",
              "      <th>2019-12-18 10:10:00+00:00</th>\n",
              "      <td>XBTUSD</td>\n",
              "      <td>6619.5</td>\n",
              "      <td>6623.5</td>\n",
              "      <td>6615.5</td>\n",
              "      <td>6615.5</td>\n",
              "      <td>1395</td>\n",
              "      <td>4672540</td>\n",
              "      <td>6621.2011</td>\n",
              "      <td>622.0</td>\n",
              "      <td>70573830493</td>\n",
              "      <td>705.738305</td>\n",
              "      <td>4672540.0</td>\n",
              "    </tr>\n",
              "    <tr>\n",
              "      <th>2019-12-18 10:15:00+00:00</th>\n",
              "      <td>XBTUSD</td>\n",
              "      <td>6615.5</td>\n",
              "      <td>6640.0</td>\n",
              "      <td>6610.0</td>\n",
              "      <td>6629.0</td>\n",
              "      <td>3925</td>\n",
              "      <td>14074759</td>\n",
              "      <td>6628.2230</td>\n",
              "      <td>133.0</td>\n",
              "      <td>212353244058</td>\n",
              "      <td>2123.532441</td>\n",
              "      <td>14074759.0</td>\n",
              "    </tr>\n",
              "    <tr>\n",
              "      <th>2019-12-18 10:20:00+00:00</th>\n",
              "      <td>XBTUSD</td>\n",
              "      <td>6629.0</td>\n",
              "      <td>6668.0</td>\n",
              "      <td>6629.0</td>\n",
              "      <td>6643.0</td>\n",
              "      <td>5777</td>\n",
              "      <td>20318419</td>\n",
              "      <td>6648.9362</td>\n",
              "      <td>49917.0</td>\n",
              "      <td>305603710118</td>\n",
              "      <td>3056.037101</td>\n",
              "      <td>20318419.0</td>\n",
              "    </tr>\n",
              "    <tr>\n",
              "      <th>2019-12-18 10:25:00+00:00</th>\n",
              "      <td>XBTUSD</td>\n",
              "      <td>6643.0</td>\n",
              "      <td>6643.0</td>\n",
              "      <td>6631.5</td>\n",
              "      <td>6631.5</td>\n",
              "      <td>2070</td>\n",
              "      <td>6060225</td>\n",
              "      <td>6636.1404</td>\n",
              "      <td>2000.0</td>\n",
              "      <td>91325461378</td>\n",
              "      <td>913.254614</td>\n",
              "      <td>6060225.0</td>\n",
              "    </tr>\n",
              "  </tbody>\n",
              "</table>\n",
              "</div>"
            ],
            "text/plain": [
              "                           symbol    open  ...  homeNotional  foreignNotional\n",
              "timestamp                                  ...                               \n",
              "2019-12-18 10:05:00+00:00  XBTUSD  6626.5  ...   1163.004295        7701044.0\n",
              "2019-12-18 10:10:00+00:00  XBTUSD  6619.5  ...    705.738305        4672540.0\n",
              "2019-12-18 10:15:00+00:00  XBTUSD  6615.5  ...   2123.532441       14074759.0\n",
              "2019-12-18 10:20:00+00:00  XBTUSD  6629.0  ...   3056.037101       20318419.0\n",
              "2019-12-18 10:25:00+00:00  XBTUSD  6643.0  ...    913.254614        6060225.0\n",
              "\n",
              "[5 rows x 12 columns]"
            ]
          },
          "metadata": {
            "tags": []
          },
          "execution_count": 81
        }
      ]
    },
    {
      "cell_type": "markdown",
      "metadata": {
        "id": "Wuc7xe5fZl2B",
        "colab_type": "text"
      },
      "source": [
        "The data representation where we group trades by the predefined time interval is called time bars.\n",
        "https://www.amazon.com/Advances-Financial-Machine-Learning-Marcos/dp/1119482089"
      ]
    },
    {
      "cell_type": "code",
      "metadata": {
        "id": "BjwfifTEYsii",
        "colab_type": "code",
        "colab": {
          "base_uri": "https://localhost:8080/",
          "height": 306
        },
        "outputId": "90996f25-bb28-4aa4-c525-d5f624f6f3b2"
      },
      "source": [
        "\n",
        "ax = df.plot(y=\"vwap\",rot = 90)\n",
        "ax.axvline(\"2018-03-01\", linestyle=\"--\", c=\"black\")\n",
        "ax.axvline(\"2017-07-01\", linestyle=\"--\", c='red')"
      ],
      "execution_count": 82,
      "outputs": [
        {
          "output_type": "execute_result",
          "data": {
            "text/plain": [
              "<matplotlib.lines.Line2D at 0x7fbe5a0d36a0>"
            ]
          },
          "metadata": {
            "tags": []
          },
          "execution_count": 82
        },
        {
          "output_type": "display_data",
          "data": {
            "image/png": "[encoded data removed]",
            "text/plain": [
              "<Figure size 432x288 with 1 Axes>"
            ]
          },
          "metadata": {
            "tags": []
          }
        }
      ]
    },
    {
      "cell_type": "code",
      "metadata": {
        "id": "JwVu1knYjpwZ",
        "colab_type": "code",
        "colab": {
          "base_uri": "https://localhost:8080/",
          "height": 237
        },
        "outputId": "dc5ba9ba-6bf6-4200-ba08-4703cb4623e8"
      },
      "source": [
        "df_vwap = df.loc[:,[\"vwap\"]]\n",
        "df_vwap.tail()"
      ],
      "execution_count": 83,
      "outputs": [
        {
          "output_type": "execute_result",
          "data": {
            "text/html": [
              "<div>\n",
              "<style scoped>\n",
              "    .dataframe tbody tr th:only-of-type {\n",
              "        vertical-align: middle;\n",
              "    }\n",
              "\n",
              "    .dataframe tbody tr th {\n",
              "        vertical-align: top;\n",
              "    }\n",
              "\n",
              "    .dataframe thead th {\n",
              "        text-align: right;\n",
              "    }\n",
              "</style>\n",
              "<table border=\"1\" class=\"dataframe\">\n",
              "  <thead>\n",
              "    <tr style=\"text-align: right;\">\n",
              "      <th></th>\n",
              "      <th>vwap</th>\n",
              "    </tr>\n",
              "    <tr>\n",
              "      <th>timestamp</th>\n",
              "      <th></th>\n",
              "    </tr>\n",
              "  </thead>\n",
              "  <tbody>\n",
              "    <tr>\n",
              "      <th>2019-12-18 10:05:00+00:00</th>\n",
              "      <td>6622.0780</td>\n",
              "    </tr>\n",
              "    <tr>\n",
              "      <th>2019-12-18 10:10:00+00:00</th>\n",
              "      <td>6621.2011</td>\n",
              "    </tr>\n",
              "    <tr>\n",
              "      <th>2019-12-18 10:15:00+00:00</th>\n",
              "      <td>6628.2230</td>\n",
              "    </tr>\n",
              "    <tr>\n",
              "      <th>2019-12-18 10:20:00+00:00</th>\n",
              "      <td>6648.9362</td>\n",
              "    </tr>\n",
              "    <tr>\n",
              "      <th>2019-12-18 10:25:00+00:00</th>\n",
              "      <td>6636.1404</td>\n",
              "    </tr>\n",
              "  </tbody>\n",
              "</table>\n",
              "</div>"
            ],
            "text/plain": [
              "                                vwap\n",
              "timestamp                           \n",
              "2019-12-18 10:05:00+00:00  6622.0780\n",
              "2019-12-18 10:10:00+00:00  6621.2011\n",
              "2019-12-18 10:15:00+00:00  6628.2230\n",
              "2019-12-18 10:20:00+00:00  6648.9362\n",
              "2019-12-18 10:25:00+00:00  6636.1404"
            ]
          },
          "metadata": {
            "tags": []
          },
          "execution_count": 83
        }
      ]
    },
    {
      "cell_type": "code",
      "metadata": {
        "id": "RPfCxqBj4G2H",
        "colab_type": "code",
        "colab": {
          "base_uri": "https://localhost:8080/",
          "height": 294
        },
        "outputId": "2ea2578b-339e-42ea-d535-f21ef15b9785"
      },
      "source": [
        "ax = df_vwap.plot()\n",
        "ax.axvline(\"2017-07-01\", linestyle=\"--\", c=\"black\")\n",
        "ax.axvline(\"2019-01-01\", linestyle=\"--\", c='red')\n",
        "ax.axvline(\"2019-08-01\", linestyle=\"--\", c='green')\n",
        "#ax.fill_between(color='grey') #Bollinger band"
      ],
      "execution_count": 84,
      "outputs": [
        {
          "output_type": "execute_result",
          "data": {
            "text/plain": [
              "<matplotlib.lines.Line2D at 0x7fbe58283dd8>"
            ]
          },
          "metadata": {
            "tags": []
          },
          "execution_count": 84
        },
        {
          "output_type": "display_data",
          "data": {
            "image/png": "[encoded data removed]",
            "text/plain": [
              "<Figure size 432x288 with 1 Axes>"
            ]
          },
          "metadata": {
            "tags": []
          }
        }
      ]
    },
    {
      "cell_type": "markdown",
      "metadata": {
        "id": "YrfS-5jCNdwb",
        "colab_type": "text"
      },
      "source": [
        "Bollinger band -> https://medium.com/python-data/setting-up-a-bollinger-band-with-python-28941e2fa300"
      ]
    },
    {
      "cell_type": "code",
      "metadata": {
        "id": "FS974TE-mnIv",
        "colab_type": "code",
        "colab": {
          "base_uri": "https://localhost:8080/",
          "height": 34
        },
        "outputId": "872eb2b5-d0a3-4259-c8a7-b589a2370ac2"
      },
      "source": [
        "df_train = df_vwap[(df_vwap.index >= \"2017-07-01\")&(df_vwap.index <= \"2019-01-01\")]\n",
        "df_train.shape"
      ],
      "execution_count": 85,
      "outputs": [
        {
          "output_type": "execute_result",
          "data": {
            "text/plain": [
              "(158113, 1)"
            ]
          },
          "metadata": {
            "tags": []
          },
          "execution_count": 85
        }
      ]
    },
    {
      "cell_type": "code",
      "metadata": {
        "id": "3QD77z0M3qRp",
        "colab_type": "code",
        "colab": {
          "base_uri": "https://localhost:8080/",
          "height": 34
        },
        "outputId": "d66584fc-ebc3-47ee-deea-022a95720e79"
      },
      "source": [
        "df_valid = df_vwap[(df_vwap.index >= \"2019-01-01\")&(df_vwap.index <= \"2019-07-01\")]\n",
        "df_valid.shape"
      ],
      "execution_count": 86,
      "outputs": [
        {
          "output_type": "execute_result",
          "data": {
            "text/plain": [
              "(52129, 1)"
            ]
          },
          "metadata": {
            "tags": []
          },
          "execution_count": 86
        }
      ]
    },
    {
      "cell_type": "code",
      "metadata": {
        "id": "yZD2Gk8y7xZg",
        "colab_type": "code",
        "colab": {
          "base_uri": "https://localhost:8080/",
          "height": 34
        },
        "outputId": "39545073-68c1-45f0-cf0f-1555def6674d"
      },
      "source": [
        "df_test = df_vwap[df_vwap.index < \"2019-07-01\"]\n",
        "df_test.shape"
      ],
      "execution_count": 87,
      "outputs": [
        {
          "output_type": "execute_result",
          "data": {
            "text/plain": [
              "(395855, 1)"
            ]
          },
          "metadata": {
            "tags": []
          },
          "execution_count": 87
        }
      ]
    },
    {
      "cell_type": "markdown",
      "metadata": {
        "id": "A1Wri74RGVWi",
        "colab_type": "text"
      },
      "source": [
        "Data Scaling"
      ]
    },
    {
      "cell_type": "code",
      "metadata": {
        "id": "fsTfjhHA8JAO",
        "colab_type": "code",
        "colab": {}
      },
      "source": [
        "from sklearn.preprocessing import StandardScaler\n",
        "\n",
        "scaler = StandardScaler()\n",
        "train_set = scaler.fit_transform(df_train)\n",
        "test_set = scaler.fit_transform(df_test)\n",
        "valid_set = scaler.fit_transform(df_valid)\n"
      ],
      "execution_count": 0,
      "outputs": []
    },
    {
      "cell_type": "code",
      "metadata": {
        "id": "hiw_sdg7UetG",
        "colab_type": "code",
        "colab": {
          "base_uri": "https://localhost:8080/",
          "height": 34
        },
        "outputId": "92aa7577-0b02-4a41-a715-16158d3beb0b"
      },
      "source": [
        "print(len(train_set))"
      ],
      "execution_count": 89,
      "outputs": [
        {
          "output_type": "stream",
          "text": [
            "158113\n"
          ],
          "name": "stdout"
        }
      ]
    },
    {
      "cell_type": "markdown",
      "metadata": {
        "id": "Kj8uJ5xmP9rD",
        "colab_type": "text"
      },
      "source": [
        "Data Transforming\n",
        "\n",
        "Here the feature and the target are from the same sequence. the only difference is that the target is shifted by 1 time bar.\n",
        "\n",
        "Here we transform the long sequence of data into many shorter sequences (100 time bars per sequence) that are shifted by a single time bar."
      ]
    },
    {
      "cell_type": "code",
      "metadata": {
        "id": "hAY70GM4P7zS",
        "colab_type": "code",
        "colab": {}
      },
      "source": [
        "from torch.autograd import Variable\n",
        "\n",
        "def transform_data(arr, seq_len):\n",
        "  x,y = [],[]\n",
        "  for i in range(len(arr)-seq_len):\n",
        "    x_i = arr[i: i+seq_len]\n",
        "    y_i = arr[i+1:i+seq_len+1]\n",
        "    x.append(x_i)\n",
        "    y.append(y_i)\n",
        "\n",
        "  x_arr = np.array(x).reshape(-1,seq_len)\n",
        "  y_arr = np.array(y).reshape(-1,seq_len)\n",
        "  x_var = Variable(torch.from_numpy(x_arr).float())#inputs\n",
        "  y_var = Variable(torch.from_numpy(y_arr).float())\n",
        "  return x_var,y_var\n"
      ],
      "execution_count": 0,
      "outputs": []
    },
    {
      "cell_type": "code",
      "metadata": {
        "id": "4GyQ5js5Hbkm",
        "colab_type": "code",
        "colab": {}
      },
      "source": [
        "seq_len =100\n",
        "\n",
        "x_train, y_train = transform_data(train_set, seq_len)\n",
        "x_val, y_val = transform_data(valid_set,seq_len)\n",
        "x_test, y_test = transform_data(test_set,seq_len)"
      ],
      "execution_count": 0,
      "outputs": []
    },
    {
      "cell_type": "code",
      "metadata": {
        "id": "TYOGcuxCabVz",
        "colab_type": "code",
        "colab": {}
      },
      "source": [
        "def plot_sequence(axes, i, x_train, y_train):\n",
        "  axes[i].set_title(\"%d. sequence\"%(i+1))\n",
        "  axes[i].set_xlabel(\"Time Bars\")\n",
        "  axes[i].set_ylabel(\"Scales VWAP\")\n",
        "  axes[i].plot(range(seq_len),x_train[i].cpu().numpy(), color='r', label='Feature') #converting Variable to numpy\n",
        "  axes[i].plot(range(1,seq_len+1), y_train[i].cpu().numpy(), color='b', label='Target')\n",
        "  axes[i].legend()\n"
      ],
      "execution_count": 0,
      "outputs": []
    },
    {
      "cell_type": "code",
      "metadata": {
        "id": "vVTFO6GXe5sU",
        "colab_type": "code",
        "colab": {
          "base_uri": "https://localhost:8080/",
          "height": 458
        },
        "outputId": "dc1652df-994f-4729-e280-2dc4e1522d9f"
      },
      "source": [
        "fig,axes=plt.subplots(nrows=1,ncols=3,figsize=(14,7))\n",
        "plot_sequence(axes,0,x_train,y_train)\n",
        "plot_sequence(axes,1,x_train,y_train)\n",
        "plot_sequence(axes,2,x_train,y_train)"
      ],
      "execution_count": 93,
      "outputs": [
        {
          "output_type": "display_data",
          "data": {
            "image/png": "[encoded data removed]",
            "text/plain": [
              "<Figure size 1008x504 with 3 Axes>"
            ]
          },
          "metadata": {
            "tags": []
          }
        }
      ]
    },
    {
      "cell_type": "markdown",
      "metadata": {
        "id": "ReL--6Slhnin",
        "colab_type": "text"
      },
      "source": [
        "LSTM"
      ]
    },
    {
      "cell_type": "code",
      "metadata": {
        "id": "X1-a4IAZgTd-",
        "colab_type": "code",
        "colab": {}
      },
      "source": [
        "import torch.nn as nn\n",
        "import torch.optim as optim\n",
        "\n",
        "class Model(nn.Module):\n",
        "  def __init__(self, input_size, hidden_size, output_size):\n",
        "    super(Model, self).__init__()\n",
        "    self.input_size = input_size\n",
        "    self.hidden_size = hidden_size\n",
        "    self.output_size = output_size\n",
        "    self.lstm = nn.LSTMCell(self.input_size, self.hidden_size)\n",
        "    self.linear = nn.Linear(self.hidden_size, self.output_size)\n",
        "\n",
        "  def forward(self, input, future=0, y=None):\n",
        "    outputs = []\n",
        "\n",
        "    #reset the state of LSTM\n",
        "    #the state is kept till the end of the sequence\n",
        "    h_t = torch.zeros(input.size(0), self.hidden_size, dtype=torch.float32)\n",
        "    c_t = torch.zeros(input.size(0), self.hidden_size, dtype=torch.float32)\n",
        "\n",
        "    for i, input_t in enumerate(input.chunk(input.size(1), dim=1)):\n",
        "      h_t, c_t = self.lstm(input_t, (h_t,c_t))\n",
        "      output = self.linear(h_t)\n",
        "      outputs += [output]\n",
        "\n",
        "    for i in range(future): #teacher forcing\n",
        "      if y is not None and random.random()>0.5:\n",
        "        output = y[:,[i]]\n",
        "      h_t, c_t = self.lstm(output,(h_t,c_t))\n",
        "      output = self.linear(h_t)\n",
        "      outputs += [output]\n",
        "    outputs = torch.stack(outputs,1).squeeze(2)\n",
        "    return outputs  "
      ],
      "execution_count": 0,
      "outputs": []
    },
    {
      "cell_type": "markdown",
      "metadata": {
        "id": "XA3ejAaMg1Tp",
        "colab_type": "text"
      },
      "source": [
        "teacher forcing -> https://machinelearningmastery.com/teacher-forcing-for-recurrent-neural-networks/\n",
        "\n",
        "Teacher forcing is a method for quickly and efficiently training recurrent neural network models that use the ground truth from a prior time step as input.\n",
        "\n",
        "\n",
        "1. The problem with training recurrent neural networks that use output from prior time steps as input.\n",
        "2. The teacher forcing method for addressing slow convergence and instability when training these types of recurrent networks.\n",
        "3. Extensions to teacher forcing that allow trained models to better handle open loop applications of this type of network.\n"
      ]
    },
    {
      "cell_type": "code",
      "metadata": {
        "id": "s1z3V7o1yQ0l",
        "colab_type": "code",
        "colab": {}
      },
      "source": [
        "import time\n",
        "import random\n",
        "\n",
        "class Optimization:\n",
        "  ''' A helper class to train, test and diagnose the LSTM '''\n",
        "\n",
        "  def __init__(self, model, loss_fn, optimizer, scheduler):\n",
        "    self.model = model\n",
        "    self.loss_fn = loss_fn\n",
        "    self.optimizer = optimizer\n",
        "    self.scheduler = scheduler\n",
        "    self.train_losses = []\n",
        "    self.val_losses = []\n",
        "    self.futures = [] #future predictions\n",
        "\n",
        "  @staticmethod\n",
        "  def generate_batch_data(x,y,batch_size):\n",
        "    for batch, i in enumerate(range(0,len(x)-batch_size, batch_size)):\n",
        "      x_batch = x[i:i+batch_size]\n",
        "      y_batch = y[i:i+batch_size]\n",
        "      #print(x_batch, y_batch, batch)\n",
        "      yield x_batch, y_batch, batch\n",
        "\n",
        "  def train(self, x_train, y_train, x_val=None, y_val=None, batch_size=100, n_epochs=10, do_teacher_forcing=None):\n",
        "    seq_len = x_train.shape[1]\n",
        "    for epoch in range(n_epochs):\n",
        "      start_time = time.time()\n",
        "      self.futures = []\n",
        "\n",
        "      train_loss = 0\n",
        "      for x_batch, y_batch, batch in self.generate_batch_data(x_train, y_train, batch_size):\n",
        "        y_pred = self._predict(x_batch, y_batch, seq_len, do_teacher_forcing)\n",
        "        self.optimizer.zero_grad()\n",
        "        loss = self.loss_fn(y_pred, y_batch)\n",
        "        loss.backward()\n",
        "        self.optimizer.step()\n",
        "        train_loss += loss.item()\n",
        "      self.scheduler.step()\n",
        "      train_loss /= batch\n",
        "      self.train_losses.append(train_loss)\n",
        "\n",
        "      self._validation(x_val, y_val, batch_size)\n",
        "\n",
        "      elapsed = time.time() - start_time\n",
        "      print(\"Epoch %d Train loss: %.2f. Validation loss: %.2f. Avg future: %.2f. Elapsed time: %.2fs.\"\n",
        "                % (epoch + 1, train_loss, self.val_losses[-1], np.average(self.futures), elapsed))\n",
        "\n",
        "\n",
        "\n",
        "  def _predict(self, x_batch, y_batch, seq_len, do_teacher_forcing):\n",
        "    if do_teacher_forcing:\n",
        "      future = random.randint(1, int(seq_len)/2)\n",
        "      limit = x_batch.size(1) - future\n",
        "      y_pred = self.model(x_batch[:,:limit], future=future, y=y_batch[:,limit:])\n",
        "    else:\n",
        "      future = 0\n",
        "      y_pred = self.model(x_batch)\n",
        "    self.futures.append(future)\n",
        "    return y_pred\n",
        "\n",
        "  def _validation(self, x_val, y_val, batch_size):\n",
        "    if x_val is None or y_val is None:\n",
        "      return\n",
        "    with torch.no_grad():\n",
        "      val_loss = 0\n",
        "      for x_batch, y_batch, batch in self.generate_batch_data(x_val, y_val, batch_size):\n",
        "        y_pred = self.model(x_batch)\n",
        "        loss = self.loss_fn(y_pred, y_batch)\n",
        "        val_loss += loss.item()\n",
        "      val_loss /= batch\n",
        "      self.val_losses.append(val_loss)\n",
        "\n",
        "  def evaluate(self, x_test, y_test, batch_size, future=1):\n",
        "    with torch.no_grad():\n",
        "      test_loss = 0\n",
        "      actual, predicted = [],[]\n",
        "      for x_batch, y_batch, batch in self.generate_batch_data(x_test, y_test, batch_size):\n",
        "        y_pred = self.model(x_batch, future=future)\n",
        "        y_pred = (y_pred[:, -len(y_batch) :] if y_pred.shape[1]>y_batch.shape[1] else y_pred)\n",
        "        loss = self.loss_fn(y_pred, y_batch)\n",
        "        test_loss += loss.item()\n",
        "        actual += torch.squeeze(y_batch[:, -1]).data.cpu().numpy().tolist()\n",
        "        predicted += torch.squeeze(y_pred[:, -1]).data.cpu().numpy().tolist()\n",
        "      test_loss /= batch\n",
        "      return actual, predicted, test_loss\n",
        "\n",
        "  def plot_losses(self):\n",
        "    plt.plot(self.train_losses, label=\"Training Loss\")\n",
        "    plt.plot(self.val_losses, label=\"Validation Loss\")\n",
        "    plt.legend()\n",
        "    plt.title(\"Losses\")"
      ],
      "execution_count": 0,
      "outputs": []
    },
    {
      "cell_type": "code",
      "metadata": {
        "id": "KMtPLjLBEN0-",
        "colab_type": "code",
        "colab": {}
      },
      "source": [
        "def generate_sequence(scaler, model, x_sample, future=1000):\n",
        "  ''' Generate future values for x_sample with the model'''\n",
        "  y_pred_tensor = model(x_sample, future=future)\n",
        "  y_pred = y_pred_tensor.cpu().tolist()\n",
        "  y_pred = scaler.inverse_transform(y_pred)\n",
        "  return y_pred"
      ],
      "execution_count": 0,
      "outputs": []
    },
    {
      "cell_type": "code",
      "metadata": {
        "id": "rVoXw8LFF_21",
        "colab_type": "code",
        "colab": {}
      },
      "source": [
        "def to_dataframe(actual,predicted):\n",
        "  return pd.DataFrame({\"actual\":actual, \"predicted\":predicted})\n",
        "\n",
        "def inverse_transform(scaler, df, columns):\n",
        "  for col in columns:\n",
        "    df[col] = scaler.inverse_transform(df[col])\n",
        "  return df"
      ],
      "execution_count": 0,
      "outputs": []
    },
    {
      "cell_type": "code",
      "metadata": {
        "id": "77K7EUS96yjM",
        "colab_type": "code",
        "colab": {
          "base_uri": "https://localhost:8080/",
          "height": 365
        },
        "outputId": "d6787e27-12be-4af7-fe17-e1ebd4436612"
      },
      "source": [
        "model_0 = Model(input_size=1, hidden_size=21, output_size=1)\n",
        "loss_fn_0 = nn.MSELoss()\n",
        "optimizer_0 = optim.Adam(model_0.parameters(), lr=1e-6)\n",
        "scheduler_0 = optim.lr_scheduler.StepLR(optimizer_0, step_size=5, gamma=0.1)\n",
        "optimization_0 = Optimization(model_0, loss_fn_0, optimizer_0, scheduler_0)\n",
        "\n",
        "optimization_0.train(x_train, y_train, x_val, y_val, do_teacher_forcing=False)"
      ],
      "execution_count": 124,
      "outputs": [
        {
          "output_type": "stream",
          "text": [
            "Epoch 1 Train loss: nan. Validation loss: nan. Avg future: 0.00. Elapsed time: 126.01s.\n"
          ],
          "name": "stdout"
        },
        {
          "output_type": "error",
          "ename": "KeyboardInterrupt",
          "evalue": "ignored",
          "traceback": [
            "\u001b[0;31m---------------------------------------------------------------------------\u001b[0m",
            "\u001b[0;31mKeyboardInterrupt\u001b[0m                         Traceback (most recent call last)",
            "\u001b[0;32m<ipython-input-124-c8f3cf2abf6d>\u001b[0m in \u001b[0;36m<module>\u001b[0;34m()\u001b[0m\n\u001b[1;32m      5\u001b[0m \u001b[0moptimization_0\u001b[0m \u001b[0;34m=\u001b[0m \u001b[0mOptimization\u001b[0m\u001b[0;34m(\u001b[0m\u001b[0mmodel_0\u001b[0m\u001b[0;34m,\u001b[0m \u001b[0mloss_fn_0\u001b[0m\u001b[0;34m,\u001b[0m \u001b[0moptimizer_0\u001b[0m\u001b[0;34m,\u001b[0m \u001b[0mscheduler_0\u001b[0m\u001b[0;34m)\u001b[0m\u001b[0;34m\u001b[0m\u001b[0;34m\u001b[0m\u001b[0m\n\u001b[1;32m      6\u001b[0m \u001b[0;34m\u001b[0m\u001b[0m\n\u001b[0;32m----> 7\u001b[0;31m \u001b[0moptimization_0\u001b[0m\u001b[0;34m.\u001b[0m\u001b[0mtrain\u001b[0m\u001b[0;34m(\u001b[0m\u001b[0mx_train\u001b[0m\u001b[0;34m,\u001b[0m \u001b[0my_train\u001b[0m\u001b[0;34m,\u001b[0m \u001b[0mx_val\u001b[0m\u001b[0;34m,\u001b[0m \u001b[0my_val\u001b[0m\u001b[0;34m,\u001b[0m \u001b[0mdo_teacher_forcing\u001b[0m\u001b[0;34m=\u001b[0m\u001b[0;32mFalse\u001b[0m\u001b[0;34m)\u001b[0m\u001b[0;34m\u001b[0m\u001b[0;34m\u001b[0m\u001b[0m\n\u001b[0m",
            "\u001b[0;32m<ipython-input-121-1d7526a1f733>\u001b[0m in \u001b[0;36mtrain\u001b[0;34m(self, x_train, y_train, x_val, y_val, batch_size, n_epochs, do_teacher_forcing)\u001b[0m\n\u001b[1;32m     33\u001b[0m         \u001b[0mself\u001b[0m\u001b[0;34m.\u001b[0m\u001b[0moptimizer\u001b[0m\u001b[0;34m.\u001b[0m\u001b[0mzero_grad\u001b[0m\u001b[0;34m(\u001b[0m\u001b[0;34m)\u001b[0m\u001b[0;34m\u001b[0m\u001b[0;34m\u001b[0m\u001b[0m\n\u001b[1;32m     34\u001b[0m         \u001b[0mloss\u001b[0m \u001b[0;34m=\u001b[0m \u001b[0mself\u001b[0m\u001b[0;34m.\u001b[0m\u001b[0mloss_fn\u001b[0m\u001b[0;34m(\u001b[0m\u001b[0my_pred\u001b[0m\u001b[0;34m,\u001b[0m \u001b[0my_batch\u001b[0m\u001b[0;34m)\u001b[0m\u001b[0;34m\u001b[0m\u001b[0;34m\u001b[0m\u001b[0m\n\u001b[0;32m---> 35\u001b[0;31m         \u001b[0mloss\u001b[0m\u001b[0;34m.\u001b[0m\u001b[0mbackward\u001b[0m\u001b[0;34m(\u001b[0m\u001b[0;34m)\u001b[0m\u001b[0;34m\u001b[0m\u001b[0;34m\u001b[0m\u001b[0m\n\u001b[0m\u001b[1;32m     36\u001b[0m         \u001b[0mself\u001b[0m\u001b[0;34m.\u001b[0m\u001b[0moptimizer\u001b[0m\u001b[0;34m.\u001b[0m\u001b[0mstep\u001b[0m\u001b[0;34m(\u001b[0m\u001b[0;34m)\u001b[0m\u001b[0;34m\u001b[0m\u001b[0;34m\u001b[0m\u001b[0m\n\u001b[1;32m     37\u001b[0m         \u001b[0mtrain_loss\u001b[0m \u001b[0;34m+=\u001b[0m \u001b[0mloss\u001b[0m\u001b[0;34m.\u001b[0m\u001b[0mitem\u001b[0m\u001b[0;34m(\u001b[0m\u001b[0;34m)\u001b[0m\u001b[0;34m\u001b[0m\u001b[0;34m\u001b[0m\u001b[0m\n",
            "\u001b[0;32m/usr/local/lib/python3.6/dist-packages/torch/tensor.py\u001b[0m in \u001b[0;36mbackward\u001b[0;34m(self, gradient, retain_graph, create_graph)\u001b[0m\n\u001b[1;32m    164\u001b[0m                 \u001b[0mproducts\u001b[0m\u001b[0;34m.\u001b[0m \u001b[0mDefaults\u001b[0m \u001b[0mto\u001b[0m\u001b[0;31m \u001b[0m\u001b[0;31m`\u001b[0m\u001b[0;31m`\u001b[0m\u001b[0;32mFalse\u001b[0m\u001b[0;31m`\u001b[0m\u001b[0;31m`\u001b[0m\u001b[0;34m.\u001b[0m\u001b[0;34m\u001b[0m\u001b[0;34m\u001b[0m\u001b[0m\n\u001b[1;32m    165\u001b[0m         \"\"\"\n\u001b[0;32m--> 166\u001b[0;31m         \u001b[0mtorch\u001b[0m\u001b[0;34m.\u001b[0m\u001b[0mautograd\u001b[0m\u001b[0;34m.\u001b[0m\u001b[0mbackward\u001b[0m\u001b[0;34m(\u001b[0m\u001b[0mself\u001b[0m\u001b[0;34m,\u001b[0m \u001b[0mgradient\u001b[0m\u001b[0;34m,\u001b[0m \u001b[0mretain_graph\u001b[0m\u001b[0;34m,\u001b[0m \u001b[0mcreate_graph\u001b[0m\u001b[0;34m)\u001b[0m\u001b[0;34m\u001b[0m\u001b[0;34m\u001b[0m\u001b[0m\n\u001b[0m\u001b[1;32m    167\u001b[0m \u001b[0;34m\u001b[0m\u001b[0m\n\u001b[1;32m    168\u001b[0m     \u001b[0;32mdef\u001b[0m \u001b[0mregister_hook\u001b[0m\u001b[0;34m(\u001b[0m\u001b[0mself\u001b[0m\u001b[0;34m,\u001b[0m \u001b[0mhook\u001b[0m\u001b[0;34m)\u001b[0m\u001b[0;34m:\u001b[0m\u001b[0;34m\u001b[0m\u001b[0;34m\u001b[0m\u001b[0m\n",
            "\u001b[0;32m/usr/local/lib/python3.6/dist-packages/torch/autograd/__init__.py\u001b[0m in \u001b[0;36mbackward\u001b[0;34m(tensors, grad_tensors, retain_graph, create_graph, grad_variables)\u001b[0m\n\u001b[1;32m     97\u001b[0m     Variable._execution_engine.run_backward(\n\u001b[1;32m     98\u001b[0m         \u001b[0mtensors\u001b[0m\u001b[0;34m,\u001b[0m \u001b[0mgrad_tensors\u001b[0m\u001b[0;34m,\u001b[0m \u001b[0mretain_graph\u001b[0m\u001b[0;34m,\u001b[0m \u001b[0mcreate_graph\u001b[0m\u001b[0;34m,\u001b[0m\u001b[0;34m\u001b[0m\u001b[0;34m\u001b[0m\u001b[0m\n\u001b[0;32m---> 99\u001b[0;31m         allow_unreachable=True)  # allow_unreachable flag\n\u001b[0m\u001b[1;32m    100\u001b[0m \u001b[0;34m\u001b[0m\u001b[0m\n\u001b[1;32m    101\u001b[0m \u001b[0;34m\u001b[0m\u001b[0m\n",
            "\u001b[0;31mKeyboardInterrupt\u001b[0m: "
          ]
        }
      ]
    },
    {
      "cell_type": "code",
      "metadata": {
        "id": "HSQrNPIPO8W0",
        "colab_type": "code",
        "colab": {
          "base_uri": "https://localhost:8080/",
          "height": 281
        },
        "outputId": "4d5d2b83-98bb-4fbd-f8e0-1cc319358264"
      },
      "source": [
        "optimization_0.plot_losses()"
      ],
      "execution_count": 125,
      "outputs": [
        {
          "output_type": "display_data",
          "data": {
            "image/png": "[encoded data removed]",
            "text/plain": [
              "<Figure size 432x288 with 1 Axes>"
            ]
          },
          "metadata": {
            "tags": []
          }
        }
      ]
    },
    {
      "cell_type": "markdown",
      "metadata": {
        "id": "gc4E5ycUPOVx",
        "colab_type": "text"
      },
      "source": [
        "Testing\n"
      ]
    },
    {
      "cell_type": "code",
      "metadata": {
        "id": "LRtVRSupPNgR",
        "colab_type": "code",
        "colab": {
          "base_uri": "https://localhost:8080/",
          "height": 445
        },
        "outputId": "56ecf0b4-6101-4951-c60b-87c747da41e5"
      },
      "source": [
        "actual_1, predicted_1, test_loss_1 = optimization_0.evaluate(x_test, y_test, future=5, batch_size=100)\n",
        "df_result_1 = to_dataframe(actual_1, predicted_1) \n",
        "df_result_1 = inverse_transform(scaler, df_result_1, ['actual', 'predicted'])\n",
        "df_result_1.plot(figsize=(14, 7))\n",
        "print(\"Test loss %.4f\" % test_loss_1)\n"
      ],
      "execution_count": 128,
      "outputs": [
        {
          "output_type": "stream",
          "text": [
            "Test loss nan\n"
          ],
          "name": "stdout"
        },
        {
          "output_type": "display_data",
          "data": {
            "image/png": "[encoded data removed]",
            "text/plain": [
              "<Figure size 1008x504 with 1 Axes>"
            ]
          },
          "metadata": {
            "tags": []
          }
        }
      ]
    },
    {
      "cell_type": "markdown",
      "metadata": {
        "id": "icXIryv8RSxN",
        "colab_type": "text"
      },
      "source": [
        "Zooming"
      ]
    },
    {
      "cell_type": "code",
      "metadata": {
        "id": "sZ8_YVTYRhWZ",
        "colab_type": "code",
        "colab": {
          "base_uri": "https://localhost:8080/",
          "height": 448
        },
        "outputId": "12e190d8-915b-47ba-c274-e83c0dd1f0bc"
      },
      "source": [
        "fig, axes = plt.subplots(nrows=1, ncols=2, figsize=(14, 7))\n",
        "df_result_1.iloc[2350:2450].plot(ax=axes[0], figsize=(14, 7))\n",
        "df_result_1.iloc[16000:17500].plot(ax=axes[1], figsize=(14, 7))\n"
      ],
      "execution_count": 129,
      "outputs": [
        {
          "output_type": "execute_result",
          "data": {
            "text/plain": [
              "<matplotlib.axes._subplots.AxesSubplot at 0x7fbe54a7e780>"
            ]
          },
          "metadata": {
            "tags": []
          },
          "execution_count": 129
        },
        {
          "output_type": "display_data",
          "data": {
            "image/png": "[encoded data removed]",
            "text/plain": [
              "<Figure size 1008x504 with 2 Axes>"
            ]
          },
          "metadata": {
            "tags": []
          }
        }
      ]
    },
    {
      "cell_type": "code",
      "metadata": {
        "id": "8SEIDey5SBVd",
        "colab_type": "code",
        "colab": {
          "base_uri": "https://localhost:8080/",
          "height": 445
        },
        "outputId": "dd179238-1a2f-40be-b7fb-7fcf60224046"
      },
      "source": [
        "x_sample = x_test[0].reshape(1, -1)\n",
        "y_sample = df_test.vwap[:1100]\n",
        " \n",
        "y_pred1 = generate_sequence(scaler, optimization_0.model, x_sample)\n",
        "plt.figure(figsize=(14, 7))\n",
        "plt.plot(range(100), y_pred1[0][:100], color=\"blue\", lw=2, label=\"Predicted VWAP\")\n",
        "plt.plot(range(100, 1100), y_pred1[0][100:], \"--\", color=\"blue\", lw=2, label=\"Generated VWAP\")\n",
        "plt.plot(range(0, 1100), y_sample, color=\"red\", label=\"Actual VWAP\")\n",
        "plt.legend()\n"
      ],
      "execution_count": 131,
      "outputs": [
        {
          "output_type": "execute_result",
          "data": {
            "text/plain": [
              "<matplotlib.legend.Legend at 0x7fbe5497b8d0>"
            ]
          },
          "metadata": {
            "tags": []
          },
          "execution_count": 131
        },
        {
          "output_type": "display_data",
          "data": {
            "image/png": "[encoded data removed]",
            "text/plain": [
              "<Figure size 1008x504 with 1 Axes>"
            ]
          },
          "metadata": {
            "tags": []
          }
        }
      ]
    },
    {
      "cell_type": "markdown",
      "metadata": {
        "id": "qmM_mecvSFJ4",
        "colab_type": "text"
      },
      "source": [
        "Bug Fixing"
      ]
    },
    {
      "cell_type": "code",
      "metadata": {
        "id": "TBGvZsvzL6uU",
        "colab_type": "code",
        "colab": {
          "base_uri": "https://localhost:8080/",
          "height": 417
        },
        "outputId": "4f2c2420-52fc-40cd-cf86-4f0e380ca865"
      },
      "source": [
        "#Adding clip gradient norm\n",
        "model_1 = Model(input_size=1, hidden_size=21, output_size=1)\n",
        "clip_value = 1\n",
        "loss_fn_0 = nn.MSELoss()\n",
        "\n",
        "clip_0 = torch.nn.utils.clip_grad_norm(model_1.parameters(),clip_value)\n",
        "# optimizer_0 = optim.Adam()?\n",
        "scheduler_0 = optim.lr_scheduler.StepLR(clip_0, step_size=5, gamma=0.1)\n",
        "optimization_0 = Optimization(model_1, loss_fn_0, clip_0, scheduler_0)\n",
        "\n",
        "optimization_0.train(x_train, y_train, x_val, y_val, do_teacher_forcing=False)"
      ],
      "execution_count": 113,
      "outputs": [
        {
          "output_type": "stream",
          "text": [
            "/usr/local/lib/python3.6/dist-packages/ipykernel_launcher.py:5: UserWarning: torch.nn.utils.clip_grad_norm is now deprecated in favor of torch.nn.utils.clip_grad_norm_.\n",
            "  \"\"\"\n"
          ],
          "name": "stderr"
        },
        {
          "output_type": "error",
          "ename": "TypeError",
          "evalue": "ignored",
          "traceback": [
            "\u001b[0;31m---------------------------------------------------------------------------\u001b[0m",
            "\u001b[0;31mTypeError\u001b[0m                                 Traceback (most recent call last)",
            "\u001b[0;32m<ipython-input-113-9403a74ea11d>\u001b[0m in \u001b[0;36m<module>\u001b[0;34m()\u001b[0m\n\u001b[1;32m      5\u001b[0m \u001b[0mclip_0\u001b[0m \u001b[0;34m=\u001b[0m \u001b[0mtorch\u001b[0m\u001b[0;34m.\u001b[0m\u001b[0mnn\u001b[0m\u001b[0;34m.\u001b[0m\u001b[0mutils\u001b[0m\u001b[0;34m.\u001b[0m\u001b[0mclip_grad_norm\u001b[0m\u001b[0;34m(\u001b[0m\u001b[0mmodel_1\u001b[0m\u001b[0;34m.\u001b[0m\u001b[0mparameters\u001b[0m\u001b[0;34m(\u001b[0m\u001b[0;34m)\u001b[0m\u001b[0;34m,\u001b[0m\u001b[0mclip_value\u001b[0m\u001b[0;34m)\u001b[0m\u001b[0;34m\u001b[0m\u001b[0;34m\u001b[0m\u001b[0m\n\u001b[1;32m      6\u001b[0m \u001b[0;31m# optimizer_0 = optim.Adam()?\u001b[0m\u001b[0;34m\u001b[0m\u001b[0;34m\u001b[0m\u001b[0;34m\u001b[0m\u001b[0m\n\u001b[0;32m----> 7\u001b[0;31m \u001b[0mscheduler_0\u001b[0m \u001b[0;34m=\u001b[0m \u001b[0moptim\u001b[0m\u001b[0;34m.\u001b[0m\u001b[0mlr_scheduler\u001b[0m\u001b[0;34m.\u001b[0m\u001b[0mStepLR\u001b[0m\u001b[0;34m(\u001b[0m\u001b[0mclip_0\u001b[0m\u001b[0;34m,\u001b[0m \u001b[0mstep_size\u001b[0m\u001b[0;34m=\u001b[0m\u001b[0;36m5\u001b[0m\u001b[0;34m,\u001b[0m \u001b[0mgamma\u001b[0m\u001b[0;34m=\u001b[0m\u001b[0;36m0.1\u001b[0m\u001b[0;34m)\u001b[0m\u001b[0;34m\u001b[0m\u001b[0;34m\u001b[0m\u001b[0m\n\u001b[0m\u001b[1;32m      8\u001b[0m \u001b[0moptimization_0\u001b[0m \u001b[0;34m=\u001b[0m \u001b[0mOptimization\u001b[0m\u001b[0;34m(\u001b[0m\u001b[0mmodel_1\u001b[0m\u001b[0;34m,\u001b[0m \u001b[0mloss_fn_0\u001b[0m\u001b[0;34m,\u001b[0m \u001b[0mclip_0\u001b[0m\u001b[0;34m,\u001b[0m \u001b[0mscheduler_0\u001b[0m\u001b[0;34m)\u001b[0m\u001b[0;34m\u001b[0m\u001b[0;34m\u001b[0m\u001b[0m\n\u001b[1;32m      9\u001b[0m \u001b[0;34m\u001b[0m\u001b[0m\n",
            "\u001b[0;32m/usr/local/lib/python3.6/dist-packages/torch/optim/lr_scheduler.py\u001b[0m in \u001b[0;36m__init__\u001b[0;34m(self, optimizer, step_size, gamma, last_epoch)\u001b[0m\n\u001b[1;32m    206\u001b[0m         \u001b[0mself\u001b[0m\u001b[0;34m.\u001b[0m\u001b[0mstep_size\u001b[0m \u001b[0;34m=\u001b[0m \u001b[0mstep_size\u001b[0m\u001b[0;34m\u001b[0m\u001b[0;34m\u001b[0m\u001b[0m\n\u001b[1;32m    207\u001b[0m         \u001b[0mself\u001b[0m\u001b[0;34m.\u001b[0m\u001b[0mgamma\u001b[0m \u001b[0;34m=\u001b[0m \u001b[0mgamma\u001b[0m\u001b[0;34m\u001b[0m\u001b[0;34m\u001b[0m\u001b[0m\n\u001b[0;32m--> 208\u001b[0;31m         \u001b[0msuper\u001b[0m\u001b[0;34m(\u001b[0m\u001b[0mStepLR\u001b[0m\u001b[0;34m,\u001b[0m \u001b[0mself\u001b[0m\u001b[0;34m)\u001b[0m\u001b[0;34m.\u001b[0m\u001b[0m__init__\u001b[0m\u001b[0;34m(\u001b[0m\u001b[0moptimizer\u001b[0m\u001b[0;34m,\u001b[0m \u001b[0mlast_epoch\u001b[0m\u001b[0;34m)\u001b[0m\u001b[0;34m\u001b[0m\u001b[0;34m\u001b[0m\u001b[0m\n\u001b[0m\u001b[1;32m    209\u001b[0m \u001b[0;34m\u001b[0m\u001b[0m\n\u001b[1;32m    210\u001b[0m     \u001b[0;32mdef\u001b[0m \u001b[0mget_lr\u001b[0m\u001b[0;34m(\u001b[0m\u001b[0mself\u001b[0m\u001b[0;34m)\u001b[0m\u001b[0;34m:\u001b[0m\u001b[0;34m\u001b[0m\u001b[0;34m\u001b[0m\u001b[0m\n",
            "\u001b[0;32m/usr/local/lib/python3.6/dist-packages/torch/optim/lr_scheduler.py\u001b[0m in \u001b[0;36m__init__\u001b[0;34m(self, optimizer, last_epoch)\u001b[0m\n\u001b[1;32m     14\u001b[0m         \u001b[0;32mif\u001b[0m \u001b[0;32mnot\u001b[0m \u001b[0misinstance\u001b[0m\u001b[0;34m(\u001b[0m\u001b[0moptimizer\u001b[0m\u001b[0;34m,\u001b[0m \u001b[0mOptimizer\u001b[0m\u001b[0;34m)\u001b[0m\u001b[0;34m:\u001b[0m\u001b[0;34m\u001b[0m\u001b[0;34m\u001b[0m\u001b[0m\n\u001b[1;32m     15\u001b[0m             raise TypeError('{} is not an Optimizer'.format(\n\u001b[0;32m---> 16\u001b[0;31m                 type(optimizer).__name__))\n\u001b[0m\u001b[1;32m     17\u001b[0m         \u001b[0mself\u001b[0m\u001b[0;34m.\u001b[0m\u001b[0moptimizer\u001b[0m \u001b[0;34m=\u001b[0m \u001b[0moptimizer\u001b[0m\u001b[0;34m\u001b[0m\u001b[0;34m\u001b[0m\u001b[0m\n\u001b[1;32m     18\u001b[0m         \u001b[0;32mif\u001b[0m \u001b[0mlast_epoch\u001b[0m \u001b[0;34m==\u001b[0m \u001b[0;34m-\u001b[0m\u001b[0;36m1\u001b[0m\u001b[0;34m:\u001b[0m\u001b[0;34m\u001b[0m\u001b[0;34m\u001b[0m\u001b[0m\n",
            "\u001b[0;31mTypeError\u001b[0m: float is not an Optimizer"
          ]
        }
      ]
    },
    {
      "cell_type": "markdown",
      "metadata": {
        "id": "-NmA9b5A7VAN",
        "colab_type": "text"
      },
      "source": [
        "Basic operations"
      ]
    },
    {
      "cell_type": "code",
      "metadata": {
        "id": "_rvi4hc53JDj",
        "colab_type": "code",
        "colab": {
          "base_uri": "https://localhost:8080/",
          "height": 156
        },
        "outputId": "d3716b5d-3aa8-44c6-b46b-142b2972b9fd"
      },
      "source": [
        "import torch\n",
        "\n",
        "t = torch.ones(2,1,2,1) #ones\n",
        "print(t)\n",
        "t = torch.squeeze(t)\n",
        "print(t)"
      ],
      "execution_count": 23,
      "outputs": [
        {
          "output_type": "stream",
          "text": [
            "tensor([[[[1.],\n",
            "          [1.]]],\n",
            "\n",
            "\n",
            "        [[[1.],\n",
            "          [1.]]]])\n",
            "tensor([[1., 1.],\n",
            "        [1., 1.]])\n"
          ],
          "name": "stdout"
        }
      ]
    },
    {
      "cell_type": "code",
      "metadata": {
        "id": "iCzhkMig3VIS",
        "colab_type": "code",
        "colab": {
          "base_uri": "https://localhost:8080/",
          "height": 52
        },
        "outputId": "f4f891bd-0653-459f-f585-d528827b5c22"
      },
      "source": [
        "t1 = torch.Tensor([[[1,2,3],[2,3,5]]]) #tensor\n",
        "print(t1)"
      ],
      "execution_count": 30,
      "outputs": [
        {
          "output_type": "stream",
          "text": [
            "tensor([[[1., 2., 3.],\n",
            "         [2., 3., 5.]]])\n"
          ],
          "name": "stdout"
        }
      ]
    },
    {
      "cell_type": "code",
      "metadata": {
        "id": "wxPFVQaz3kFn",
        "colab_type": "code",
        "colab": {
          "base_uri": "https://localhost:8080/",
          "height": 52
        },
        "outputId": "1d7c56f2-d1e9-4892-b5a8-ba1aa2a875c6"
      },
      "source": [
        "t1 = torch.squeeze(t1) #squeeze\n",
        "print(t1)"
      ],
      "execution_count": 39,
      "outputs": [
        {
          "output_type": "stream",
          "text": [
            "tensor([[1., 2., 3.],\n",
            "        [2., 3., 5.]])\n"
          ],
          "name": "stdout"
        }
      ]
    },
    {
      "cell_type": "code",
      "metadata": {
        "id": "5F3HoNa73vg_",
        "colab_type": "code",
        "colab": {
          "base_uri": "https://localhost:8080/",
          "height": 330
        },
        "outputId": "087b394f-cfc4-4321-c8c0-ae2fd6fa4c88"
      },
      "source": [
        "t2 = torch.unsqueeze(t1,0) #unsqueeze\n",
        "t3 = torch.unsqueeze(t1,1)\n",
        "t4 = torch.unsqueeze(t1,2)\n",
        "#t5 = torch.unsqueeze(t1,3)\n",
        "print(t1)\n",
        "print(t1.size())\n",
        "print(t2)\n",
        "print(t2.size())\n",
        "print(t3)\n",
        "print(t3.size())\n",
        "print(t4)\n",
        "print(t4.size())\n"
      ],
      "execution_count": 48,
      "outputs": [
        {
          "output_type": "stream",
          "text": [
            "tensor([[1., 2., 3.],\n",
            "        [2., 3., 5.]])\n",
            "torch.Size([2, 3])\n",
            "tensor([[[1., 2., 3.],\n",
            "         [2., 3., 5.]]])\n",
            "torch.Size([1, 2, 3])\n",
            "tensor([[[1., 2., 3.]],\n",
            "\n",
            "        [[2., 3., 5.]]])\n",
            "torch.Size([2, 1, 3])\n",
            "tensor([[[1.],\n",
            "         [2.],\n",
            "         [3.]],\n",
            "\n",
            "        [[2.],\n",
            "         [3.],\n",
            "         [5.]]])\n",
            "torch.Size([2, 3, 1])\n"
          ],
          "name": "stdout"
        }
      ]
    },
    {
      "cell_type": "code",
      "metadata": {
        "id": "0wFFOzI74ov_",
        "colab_type": "code",
        "colab": {
          "base_uri": "https://localhost:8080/",
          "height": 86
        },
        "outputId": "4bd8d42a-d0b6-4e12-f4a4-bba41ab34cc2"
      },
      "source": [
        "p = torch.ones(4,3)\n",
        "print(p)"
      ],
      "execution_count": 41,
      "outputs": [
        {
          "output_type": "stream",
          "text": [
            "tensor([[1., 1., 1.],\n",
            "        [1., 1., 1.],\n",
            "        [1., 1., 1.],\n",
            "        [1., 1., 1.]])\n"
          ],
          "name": "stdout"
        }
      ]
    },
    {
      "cell_type": "code",
      "metadata": {
        "id": "FbTRkTnG5kio",
        "colab_type": "code",
        "colab": {
          "base_uri": "https://localhost:8080/",
          "height": 86
        },
        "outputId": "382b3ed4-2fc4-4f92-be89-c40ef2c1bd86"
      },
      "source": [
        "p1 = torch.squeeze(p,1)\n",
        "print(p1)"
      ],
      "execution_count": 52,
      "outputs": [
        {
          "output_type": "stream",
          "text": [
            "tensor([[1., 1., 1.],\n",
            "        [1., 1., 1.],\n",
            "        [1., 1., 1.],\n",
            "        [1., 1., 1.]])\n"
          ],
          "name": "stdout"
        }
      ]
    },
    {
      "cell_type": "code",
      "metadata": {
        "id": "-a7K4Nu95yzm",
        "colab_type": "code",
        "colab": {
          "base_uri": "https://localhost:8080/",
          "height": 52
        },
        "outputId": "f8de2404-a5ff-4d19-fd3f-45f8aab56480"
      },
      "source": [
        "print(p.size()) #size()\n",
        "print(p1.size())"
      ],
      "execution_count": 53,
      "outputs": [
        {
          "output_type": "stream",
          "text": [
            "torch.Size([4, 3])\n",
            "torch.Size([4, 3])\n"
          ],
          "name": "stdout"
        }
      ]
    },
    {
      "cell_type": "code",
      "metadata": {
        "id": "XdnIjFMc8D49",
        "colab_type": "code",
        "colab": {
          "base_uri": "https://localhost:8080/",
          "height": 86
        },
        "outputId": "c98e70fb-9d1e-455e-df16-874f8114ca94"
      },
      "source": [
        "p2 = torch.stack([p]) #stack\n",
        "print(p2)"
      ],
      "execution_count": 55,
      "outputs": [
        {
          "output_type": "stream",
          "text": [
            "tensor([[[1., 1., 1.],\n",
            "         [1., 1., 1.],\n",
            "         [1., 1., 1.],\n",
            "         [1., 1., 1.]]])\n"
          ],
          "name": "stdout"
        }
      ]
    },
    {
      "cell_type": "code",
      "metadata": {
        "id": "adf56yOL8NpK",
        "colab_type": "code",
        "colab": {
          "base_uri": "https://localhost:8080/",
          "height": 34
        },
        "outputId": "b84bbca0-6d8d-49ca-f1b1-bddafd6ba575"
      },
      "source": [
        "print(p2.size())"
      ],
      "execution_count": 56,
      "outputs": [
        {
          "output_type": "stream",
          "text": [
            "torch.Size([1, 4, 3])\n"
          ],
          "name": "stdout"
        }
      ]
    },
    {
      "cell_type": "code",
      "metadata": {
        "id": "08YfkNWv8V3m",
        "colab_type": "code",
        "colab": {
          "base_uri": "https://localhost:8080/",
          "height": 139
        },
        "outputId": "79337940-c1bb-4be2-a31b-4631a386091d"
      },
      "source": [
        "p3 = torch.stack([p],1)\n",
        "print(p3)"
      ],
      "execution_count": 57,
      "outputs": [
        {
          "output_type": "stream",
          "text": [
            "tensor([[[1., 1., 1.]],\n",
            "\n",
            "        [[1., 1., 1.]],\n",
            "\n",
            "        [[1., 1., 1.]],\n",
            "\n",
            "        [[1., 1., 1.]]])\n"
          ],
          "name": "stdout"
        }
      ]
    },
    {
      "cell_type": "code",
      "metadata": {
        "id": "bHO5yyBr8wKt",
        "colab_type": "code",
        "colab": {
          "base_uri": "https://localhost:8080/",
          "height": 34
        },
        "outputId": "3d2fbf09-c74d-4c74-edde-e6bc65a34529"
      },
      "source": [
        "print(p3.size())"
      ],
      "execution_count": 58,
      "outputs": [
        {
          "output_type": "stream",
          "text": [
            "torch.Size([4, 1, 3])\n"
          ],
          "name": "stdout"
        }
      ]
    },
    {
      "cell_type": "code",
      "metadata": {
        "id": "Nl-rH6Tc8zT2",
        "colab_type": "code",
        "colab": {
          "base_uri": "https://localhost:8080/",
          "height": 121
        },
        "outputId": "3bce525a-0357-4bb7-d5dd-42a60be94a6c"
      },
      "source": [
        "print(p)\n",
        "print(p.size())\n",
        "p4 = p.chunk(4)\n",
        "print(p4)\n",
        "# print(p4.size()) #tuple has no attribute size"
      ],
      "execution_count": 61,
      "outputs": [
        {
          "output_type": "stream",
          "text": [
            "tensor([[1., 1., 1.],\n",
            "        [1., 1., 1.],\n",
            "        [1., 1., 1.],\n",
            "        [1., 1., 1.]])\n",
            "torch.Size([4, 3])\n",
            "(tensor([[1., 1., 1.]]), tensor([[1., 1., 1.]]), tensor([[1., 1., 1.]]), tensor([[1., 1., 1.]]))\n"
          ],
          "name": "stdout"
        }
      ]
    },
    {
      "cell_type": "code",
      "metadata": {
        "id": "UEdqPY7-9OOl",
        "colab_type": "code",
        "colab": {}
      },
      "source": [
        ""
      ],
      "execution_count": 0,
      "outputs": []
    }
  ]
}