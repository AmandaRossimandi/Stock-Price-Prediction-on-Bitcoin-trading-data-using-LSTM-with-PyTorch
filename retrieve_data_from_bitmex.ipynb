{
  "nbformat": 4,
  "nbformat_minor": 0,
  "metadata": {
    "colab": {
      "name": "retrieve_data_from_bitmex.ipynb",
      "provenance": [],
      "include_colab_link": true
    },
    "kernelspec": {
      "name": "python3",
      "display_name": "Python 3"
    },
    "widgets": {
      "application/vnd.jupyter.widget-state+json": {
        "28d36b74d24c49e4951b558023dbfb26": {
          "model_module": "@jupyter-widgets/controls",
          "model_name": "HBoxModel",
          "state": {
            "_view_name": "HBoxView",
            "_dom_classes": [],
            "_model_name": "HBoxModel",
            "_view_module": "@jupyter-widgets/controls",
            "_model_module_version": "1.5.0",
            "_view_count": null,
            "_view_module_version": "1.5.0",
            "box_style": "",
            "layout": "IPY_MODEL_99e45fac624c4e8bb2ddea6c93ce283e",
            "_model_module": "@jupyter-widgets/controls",
            "children": [
              "IPY_MODEL_94a494f59f3a4bb6bc15edbe4b682c0c",
              "IPY_MODEL_0c94ca1032504c9eb84278266c462c66"
            ]
          }
        },
        "99e45fac624c4e8bb2ddea6c93ce283e": {
          "model_module": "@jupyter-widgets/base",
          "model_name": "LayoutModel",
          "state": {
            "_view_name": "LayoutView",
            "grid_template_rows": null,
            "right": null,
            "justify_content": null,
            "_view_module": "@jupyter-widgets/base",
            "overflow": null,
            "_model_module_version": "1.2.0",
            "_view_count": null,
            "flex_flow": null,
            "width": null,
            "min_width": null,
            "border": null,
            "align_items": null,
            "bottom": null,
            "_model_module": "@jupyter-widgets/base",
            "top": null,
            "grid_column": null,
            "overflow_y": null,
            "overflow_x": null,
            "grid_auto_flow": null,
            "grid_area": null,
            "grid_template_columns": null,
            "flex": null,
            "_model_name": "LayoutModel",
            "justify_items": null,
            "grid_row": null,
            "max_height": null,
            "align_content": null,
            "visibility": null,
            "align_self": null,
            "height": null,
            "min_height": null,
            "padding": null,
            "grid_auto_rows": null,
            "grid_gap": null,
            "max_width": null,
            "order": null,
            "_view_module_version": "1.2.0",
            "grid_template_areas": null,
            "object_position": null,
            "object_fit": null,
            "grid_auto_columns": null,
            "margin": null,
            "display": null,
            "left": null
          }
        },
        "94a494f59f3a4bb6bc15edbe4b682c0c": {
          "model_module": "@jupyter-widgets/controls",
          "model_name": "IntProgressModel",
          "state": {
            "_view_name": "ProgressView",
            "style": "IPY_MODEL_5f2974ed7805481ea7ff29f80d88ac0a",
            "_dom_classes": [],
            "description": "",
            "_model_name": "IntProgressModel",
            "bar_style": "success",
            "max": 594,
            "_view_module": "@jupyter-widgets/controls",
            "_model_module_version": "1.5.0",
            "value": 594,
            "_view_count": null,
            "_view_module_version": "1.5.0",
            "orientation": "horizontal",
            "min": 0,
            "description_tooltip": null,
            "_model_module": "@jupyter-widgets/controls",
            "layout": "IPY_MODEL_f693d35ed64c4c478341318748cf85a2"
          }
        },
        "0c94ca1032504c9eb84278266c462c66": {
          "model_module": "@jupyter-widgets/controls",
          "model_name": "HTMLModel",
          "state": {
            "_view_name": "HTMLView",
            "style": "IPY_MODEL_c48af3e620d142ee97cc9aabaaca61dc",
            "_dom_classes": [],
            "description": "",
            "_model_name": "HTMLModel",
            "placeholder": "​",
            "_view_module": "@jupyter-widgets/controls",
            "_model_module_version": "1.5.0",
            "value": "100% 594/594 [13:20&lt;00:00,  1.33s/it]",
            "_view_count": null,
            "_view_module_version": "1.5.0",
            "description_tooltip": null,
            "_model_module": "@jupyter-widgets/controls",
            "layout": "IPY_MODEL_231315c3d97249b798ee4f8eb578fad5"
          }
        },
        "5f2974ed7805481ea7ff29f80d88ac0a": {
          "model_module": "@jupyter-widgets/controls",
          "model_name": "ProgressStyleModel",
          "state": {
            "_view_name": "StyleView",
            "_model_name": "ProgressStyleModel",
            "description_width": "",
            "_view_module": "@jupyter-widgets/base",
            "_model_module_version": "1.5.0",
            "_view_count": null,
            "_view_module_version": "1.2.0",
            "bar_color": null,
            "_model_module": "@jupyter-widgets/controls"
          }
        },
        "f693d35ed64c4c478341318748cf85a2": {
          "model_module": "@jupyter-widgets/base",
          "model_name": "LayoutModel",
          "state": {
            "_view_name": "LayoutView",
            "grid_template_rows": null,
            "right": null,
            "justify_content": null,
            "_view_module": "@jupyter-widgets/base",
            "overflow": null,
            "_model_module_version": "1.2.0",
            "_view_count": null,
            "flex_flow": null,
            "width": null,
            "min_width": null,
            "border": null,
            "align_items": null,
            "bottom": null,
            "_model_module": "@jupyter-widgets/base",
            "top": null,
            "grid_column": null,
            "overflow_y": null,
            "overflow_x": null,
            "grid_auto_flow": null,
            "grid_area": null,
            "grid_template_columns": null,
            "flex": null,
            "_model_name": "LayoutModel",
            "justify_items": null,
            "grid_row": null,
            "max_height": null,
            "align_content": null,
            "visibility": null,
            "align_self": null,
            "height": null,
            "min_height": null,
            "padding": null,
            "grid_auto_rows": null,
            "grid_gap": null,
            "max_width": null,
            "order": null,
            "_view_module_version": "1.2.0",
            "grid_template_areas": null,
            "object_position": null,
            "object_fit": null,
            "grid_auto_columns": null,
            "margin": null,
            "display": null,
            "left": null
          }
        },
        "c48af3e620d142ee97cc9aabaaca61dc": {
          "model_module": "@jupyter-widgets/controls",
          "model_name": "DescriptionStyleModel",
          "state": {
            "_view_name": "StyleView",
            "_model_name": "DescriptionStyleModel",
            "description_width": "",
            "_view_module": "@jupyter-widgets/base",
            "_model_module_version": "1.5.0",
            "_view_count": null,
            "_view_module_version": "1.2.0",
            "_model_module": "@jupyter-widgets/controls"
          }
        },
        "231315c3d97249b798ee4f8eb578fad5": {
          "model_module": "@jupyter-widgets/base",
          "model_name": "LayoutModel",
          "state": {
            "_view_name": "LayoutView",
            "grid_template_rows": null,
            "right": null,
            "justify_content": null,
            "_view_module": "@jupyter-widgets/base",
            "overflow": null,
            "_model_module_version": "1.2.0",
            "_view_count": null,
            "flex_flow": null,
            "width": null,
            "min_width": null,
            "border": null,
            "align_items": null,
            "bottom": null,
            "_model_module": "@jupyter-widgets/base",
            "top": null,
            "grid_column": null,
            "overflow_y": null,
            "overflow_x": null,
            "grid_auto_flow": null,
            "grid_area": null,
            "grid_template_columns": null,
            "flex": null,
            "_model_name": "LayoutModel",
            "justify_items": null,
            "grid_row": null,
            "max_height": null,
            "align_content": null,
            "visibility": null,
            "align_self": null,
            "height": null,
            "min_height": null,
            "padding": null,
            "grid_auto_rows": null,
            "grid_gap": null,
            "max_width": null,
            "order": null,
            "_view_module_version": "1.2.0",
            "grid_template_areas": null,
            "object_position": null,
            "object_fit": null,
            "grid_auto_columns": null,
            "margin": null,
            "display": null,
            "left": null
          }
        }
      }
    }
  },
  "cells": [
    {
      "cell_type": "markdown",
      "metadata": {
        "id": "view-in-github",
        "colab_type": "text"
      },
      "source": [
        "<a href=\"https://colab.research.google.com/github/ThisuriLekamge/Stock-Price-Prediction-on-Bitcoin-trading-data-using-LSTM-with-PyTorch/blob/master/retrieve_data_from_bitmex.ipynb\" target=\"_parent\"><img src=\"https://colab.research.google.com/assets/colab-badge.svg\" alt=\"Open In Colab\"/></a>"
      ]
    },
    {
      "cell_type": "code",
      "metadata": {
        "id": "zeUSNkDDevCw",
        "colab_type": "code",
        "colab": {}
      },
      "source": [
        "import pandas as pd\n",
        "import math\n",
        "import os.path\n",
        "import time\n",
        "from bitmex import bitmex\n",
        "# from binance.client import Client\n",
        "from datetime import timedelta, datetime\n",
        "from dateutil import parser\n",
        "from tqdm import tqdm_notebook #(Optional, used for progress-bars)"
      ],
      "execution_count": 0,
      "outputs": []
    },
    {
      "cell_type": "code",
      "metadata": {
        "id": "_gJooSyofGVE",
        "colab_type": "code",
        "colab": {
          "base_uri": "https://localhost:8080/",
          "height": 888
        },
        "outputId": "73e05bfc-9c99-4b27-d4a9-cb754fb83c72"
      },
      "source": [
        "pip install bitmex"
      ],
      "execution_count": 5,
      "outputs": [
        {
          "output_type": "stream",
          "text": [
            "Collecting bitmex\n",
            "  Downloading https://files.pythonhosted.org/packages/bd/f4/298b2e0fc653bca4724a741faca4165d1e0bb1393bb33be9a466a501d493/bitmex-0.2.2-py3-none-any.whl\n",
            "Collecting bravado\n",
            "  Downloading https://files.pythonhosted.org/packages/33/26/d5d9e5438dbf92580aad771e66c4658ab0964d9e791d759f61eb5674fa98/bravado-10.4.3-py2.py3-none-any.whl\n",
            "Requirement already satisfied: typing-extensions in /usr/local/lib/python3.6/dist-packages (from bravado->bitmex) (3.6.6)\n",
            "Requirement already satisfied: requests>=2.4 in /usr/local/lib/python3.6/dist-packages (from bravado->bitmex) (2.21.0)\n",
            "Collecting simplejson\n",
            "\u001b[?25l  Downloading https://files.pythonhosted.org/packages/98/87/a7b98aa9256c8843f92878966dc3d8d914c14aad97e2c5ce4798d5743e07/simplejson-3.17.0.tar.gz (83kB)\n",
            "\u001b[K     |████████████████████████████████| 92kB 6.5MB/s \n",
            "\u001b[?25hRequirement already satisfied: pyyaml in /usr/local/lib/python3.6/dist-packages (from bravado->bitmex) (3.13)\n",
            "Collecting bravado-core>=5.0.1\n",
            "\u001b[?25l  Downloading https://files.pythonhosted.org/packages/5e/ec/4f0b09fce43049e9ff7dec9c9fa23ddf1e00b1c25ccf9965e3d92e912b5f/bravado_core-5.16.0-py2.py3-none-any.whl (62kB)\n",
            "\u001b[K     |████████████████████████████████| 71kB 10.1MB/s \n",
            "\u001b[?25hCollecting monotonic\n",
            "  Downloading https://files.pythonhosted.org/packages/ac/aa/063eca6a416f397bd99552c534c6d11d57f58f2e94c14780f3bbf818c4cf/monotonic-1.5-py2.py3-none-any.whl\n",
            "Requirement already satisfied: python-dateutil in /usr/local/lib/python3.6/dist-packages (from bravado->bitmex) (2.6.1)\n",
            "Collecting msgpack-python\n",
            "\u001b[?25l  Downloading https://files.pythonhosted.org/packages/8a/20/6eca772d1a5830336f84aca1d8198e5a3f4715cd1c7fc36d3cc7f7185091/msgpack-python-0.5.6.tar.gz (138kB)\n",
            "\u001b[K     |████████████████████████████████| 143kB 40.0MB/s \n",
            "\u001b[?25hRequirement already satisfied: six in /usr/local/lib/python3.6/dist-packages (from bravado->bitmex) (1.12.0)\n",
            "Requirement already satisfied: certifi>=2017.4.17 in /usr/local/lib/python3.6/dist-packages (from requests>=2.4->bravado->bitmex) (2019.11.28)\n",
            "Requirement already satisfied: chardet<3.1.0,>=3.0.2 in /usr/local/lib/python3.6/dist-packages (from requests>=2.4->bravado->bitmex) (3.0.4)\n",
            "Requirement already satisfied: idna<2.9,>=2.5 in /usr/local/lib/python3.6/dist-packages (from requests>=2.4->bravado->bitmex) (2.8)\n",
            "Requirement already satisfied: urllib3<1.25,>=1.21.1 in /usr/local/lib/python3.6/dist-packages (from requests>=2.4->bravado->bitmex) (1.24.3)\n",
            "Collecting jsonref\n",
            "  Downloading https://files.pythonhosted.org/packages/07/92/f8e4ac824b14af77e613984e480fa818397c72d4141fc466decb26752749/jsonref-0.2-py3-none-any.whl\n",
            "Requirement already satisfied: jsonschema[format]>=2.5.1 in /usr/local/lib/python3.6/dist-packages (from bravado-core>=5.0.1->bravado->bitmex) (2.6.0)\n",
            "Collecting swagger-spec-validator>=2.0.1\n",
            "  Downloading https://files.pythonhosted.org/packages/3a/98/1845e3f23fc910f05461d2f981eb0f09ab1f6e75b4f20f9fedb2da3be4c5/swagger_spec_validator-2.4.3-py2.py3-none-any.whl\n",
            "Requirement already satisfied: pytz in /usr/local/lib/python3.6/dist-packages (from bravado-core>=5.0.1->bravado->bitmex) (2018.9)\n",
            "Collecting webcolors; extra == \"format\"\n",
            "  Downloading https://files.pythonhosted.org/packages/8b/ff/c21df7e08e68a1a84b947992c07dfed9cfe7219d068cb7728358d065c877/webcolors-1.10-py2.py3-none-any.whl\n",
            "Collecting strict-rfc3339; extra == \"format\"\n",
            "  Downloading https://files.pythonhosted.org/packages/56/e4/879ef1dbd6ddea1c77c0078cd59b503368b0456bcca7d063a870ca2119d3/strict-rfc3339-0.7.tar.gz\n",
            "Collecting rfc3987; extra == \"format\"\n",
            "  Downloading https://files.pythonhosted.org/packages/65/d4/f7407c3d15d5ac779c3dd34fbbc6ea2090f77bd7dd12f207ccf881551208/rfc3987-1.3.8-py2.py3-none-any.whl\n",
            "Building wheels for collected packages: simplejson, msgpack-python, strict-rfc3339\n",
            "  Building wheel for simplejson (setup.py) ... \u001b[?25l\u001b[?25hdone\n",
            "  Created wheel for simplejson: filename=simplejson-3.17.0-cp36-cp36m-linux_x86_64.whl size=114207 sha256=ed37d9a7ddefd60dc0a206759f807468991c48f3d28e5774c9d1806bf2521967\n",
            "  Stored in directory: /root/.cache/pip/wheels/86/c0/83/dcd0339abb2640544bb8e0938aab2d069cef55e5647ce6e097\n",
            "  Building wheel for msgpack-python (setup.py) ... \u001b[?25l\u001b[?25hdone\n",
            "  Created wheel for msgpack-python: filename=msgpack_python-0.5.6-cp36-cp36m-linux_x86_64.whl size=297276 sha256=1f7c741dfec513bc01d2093bdcb04ef95107d8a43177a51af2547dd005f99a73\n",
            "  Stored in directory: /root/.cache/pip/wheels/d5/de/86/7fa56fda12511be47ea0808f3502bc879df4e63ab168ec0406\n",
            "  Building wheel for strict-rfc3339 (setup.py) ... \u001b[?25l\u001b[?25hdone\n",
            "  Created wheel for strict-rfc3339: filename=strict_rfc3339-0.7-cp36-none-any.whl size=18121 sha256=77b0c18abd6d6e60eebd92998d943c1dec57c15c0d13e815d5136f3f4dc81b98\n",
            "  Stored in directory: /root/.cache/pip/wheels/bb/af/c9/b6e9fb5f9b2470e4ed2a7241c9ab3a8cdd3bc8555ae02ca2e6\n",
            "Successfully built simplejson msgpack-python strict-rfc3339\n",
            "Installing collected packages: simplejson, jsonref, swagger-spec-validator, msgpack-python, bravado-core, monotonic, bravado, bitmex, webcolors, strict-rfc3339, rfc3987\n",
            "Successfully installed bitmex-0.2.2 bravado-10.4.3 bravado-core-5.16.0 jsonref-0.2 monotonic-1.5 msgpack-python-0.5.6 rfc3987-1.3.8 simplejson-3.17.0 strict-rfc3339-0.7 swagger-spec-validator-2.4.3 webcolors-1.10\n"
          ],
          "name": "stdout"
        }
      ]
    },
    {
      "cell_type": "code",
      "metadata": {
        "id": "gWrHKPjlfWVa",
        "colab_type": "code",
        "colab": {}
      },
      "source": [
        "### API\n",
        "bitmex_api_key = ''    #Enter your own API-key here\n",
        "bitmex_api_secret = '' #Enter your own API-secret here\n",
        "# binance_api_key = '[REDACTED]'    #Enter your own API-key here\n",
        "# binance_api_secret = '[REDACTED]' #Enter your own API-secret here"
      ],
      "execution_count": 0,
      "outputs": []
    },
    {
      "cell_type": "code",
      "metadata": {
        "id": "i2TcPcajfguK",
        "colab_type": "code",
        "colab": {
          "base_uri": "https://localhost:8080/",
          "height": 72
        },
        "outputId": "7e0ffcab-4da2-41d7-f529-36bedfc92f6a"
      },
      "source": [
        "### CONSTANTS\n",
        "binsizes = {\"1m\": 1, \"5m\": 5, \"1h\": 60, \"1d\": 1440}\n",
        "batch_size = 750\n",
        "bitmex_client = bitmex(test=False, api_key=bitmex_api_key, api_secret=bitmex_api_secret)\n",
        "# binance_client = Client(api_key=binance_api_key, api_secret=binance_api_secret)"
      ],
      "execution_count": 8,
      "outputs": [
        {
          "output_type": "stream",
          "text": [
            "/usr/local/lib/python3.6/dist-packages/swagger_spec_validator/validator20.py:53: SwaggerValidationWarning: Found \"$ref: #/definitions/UserPreferences\" with siblings that will be overwritten. See https://stackoverflow.com/a/48114924 for more information. (path #/definitions/User/properties/preferences)\n",
            "  ref_dict['$ref'], '/'.join(path),\n"
          ],
          "name": "stderr"
        }
      ]
    },
    {
      "cell_type": "code",
      "metadata": {
        "id": "7alPagclfnuV",
        "colab_type": "code",
        "colab": {}
      },
      "source": [
        "### FUNCTIONS\n",
        "def minutes_of_new_data(symbol, kline_size, data, source):\n",
        "    if len(data) > 0:  old = parser.parse(data[\"timestamp\"].iloc[-1])\n",
        "    elif source == \"binance\": old = datetime.strptime('1 Jan 2017', '%d %b %Y')\n",
        "    elif source == \"bitmex\": old = bitmex_client.Trade.Trade_getBucketed(symbol=symbol, binSize=kline_size, count=1, reverse=False).result()[0][0]['timestamp']\n",
        "    if source == \"binance\": new = pd.to_datetime(binance_client.get_klines(symbol=symbol, interval=kline_size)[-1][0], unit='ms')\n",
        "    if source == \"bitmex\": new = bitmex_client.Trade.Trade_getBucketed(symbol=symbol, binSize=kline_size, count=1, reverse=True).result()[0][0]['timestamp']\n",
        "    return old, new"
      ],
      "execution_count": 0,
      "outputs": []
    },
    {
      "cell_type": "code",
      "metadata": {
        "id": "PRg4zDzUftOw",
        "colab_type": "code",
        "colab": {}
      },
      "source": [
        "def get_all_binance(symbol, kline_size, save = False):\n",
        "    filename = '%s-%s-data.csv' % (symbol, kline_size)\n",
        "    if os.path.isfile(filename): data_df = pd.read_csv(filename)\n",
        "    else: data_df = pd.DataFrame()\n",
        "    oldest_point, newest_point = minutes_of_new_data(symbol, kline_size, data_df, source = \"binance\")\n",
        "    delta_min = (newest_point - oldest_point).total_seconds()/60\n",
        "    available_data = math.ceil(delta_min/binsizes[kline_size])\n",
        "    if oldest_point == datetime.strptime('1 Jan 2017', '%d %b %Y'): print('Downloading all available %s data for %s. Be patient..!' % (kline_size, symbol))\n",
        "    else: print('Downloading %d minutes of new data available for %s, i.e. %d instances of %s data.' % (delta_min, symbol, available_data, kline_size))\n",
        "    klines = binance_client.get_historical_klines(symbol, kline_size, oldest_point.strftime(\"%d %b %Y %H:%M:%S\"), newest_point.strftime(\"%d %b %Y %H:%M:%S\"))\n",
        "    data = pd.DataFrame(klines, columns = ['timestamp', 'open', 'high', 'low', 'close', 'volume', 'close_time', 'quote_av', 'trades', 'tb_base_av', 'tb_quote_av', 'ignore' ])\n",
        "    data['timestamp'] = pd.to_datetime(data['timestamp'], unit='ms')\n",
        "    if len(data_df) > 0:\n",
        "        temp_df = pd.DataFrame(data)\n",
        "        data_df = data_df.append(temp_df)\n",
        "    else: data_df = data\n",
        "    data_df.set_index('timestamp', inplace=True)\n",
        "    if save: data_df.to_csv(filename)\n",
        "    print('All caught up..!')\n",
        "    return data_df"
      ],
      "execution_count": 0,
      "outputs": []
    },
    {
      "cell_type": "code",
      "metadata": {
        "id": "gjpoczisfygl",
        "colab_type": "code",
        "colab": {}
      },
      "source": [
        "def get_all_bitmex(symbol, kline_size, save = False):\n",
        "    filename = '%s-%s-data.csv' % (symbol, kline_size)\n",
        "    if os.path.isfile(filename): data_df = pd.read_csv(filename)\n",
        "    else: data_df = pd.DataFrame()\n",
        "    oldest_point, newest_point = minutes_of_new_data(symbol, kline_size, data_df, source = \"bitmex\")\n",
        "    delta_min = (newest_point - oldest_point).total_seconds()/60\n",
        "    available_data = math.ceil(delta_min/binsizes[kline_size])\n",
        "    rounds = math.ceil(available_data / batch_size)\n",
        "    if rounds > 0:\n",
        "        print('Downloading %d minutes of new data available for %s, i.e. %d instances of %s data in %d rounds.' % (delta_min, symbol, available_data, kline_size, rounds))\n",
        "        for round_num in tqdm_notebook(range(rounds)):\n",
        "            time.sleep(1)\n",
        "            new_time = (oldest_point + timedelta(minutes = round_num * batch_size * binsizes[kline_size]))\n",
        "            data = bitmex_client.Trade.Trade_getBucketed(symbol=symbol, binSize=kline_size, count=batch_size, startTime = new_time).result()[0]\n",
        "            temp_df = pd.DataFrame(data)\n",
        "            data_df = data_df.append(temp_df)\n",
        "    data_df.set_index('timestamp', inplace=True)\n",
        "    if save and rounds > 0: data_df.to_csv(filename)\n",
        "    print('All caught up..!')\n",
        "    return data_df"
      ],
      "execution_count": 0,
      "outputs": []
    },
    {
      "cell_type": "code",
      "metadata": {
        "id": "xUpd0zgQfvoZ",
        "colab_type": "code",
        "colab": {
          "base_uri": "https://localhost:8080/",
          "height": 101,
          "referenced_widgets": [
            "28d36b74d24c49e4951b558023dbfb26",
            "99e45fac624c4e8bb2ddea6c93ce283e",
            "94a494f59f3a4bb6bc15edbe4b682c0c",
            "0c94ca1032504c9eb84278266c462c66",
            "5f2974ed7805481ea7ff29f80d88ac0a",
            "f693d35ed64c4c478341318748cf85a2",
            "c48af3e620d142ee97cc9aabaaca61dc",
            "231315c3d97249b798ee4f8eb578fad5"
          ]
        },
        "outputId": "e1d53b42-863b-4ac2-8f07-a69d0508d4d2"
      },
      "source": [
        "data = get_all_bitmex(\"XBTUSD\",\"5m\",save=True)"
      ],
      "execution_count": 11,
      "outputs": [
        {
          "output_type": "stream",
          "text": [
            "Downloading 2224685 minutes of new data available for XBTUSD, i.e. 444937 instances of 5m data in 594 rounds.\n"
          ],
          "name": "stdout"
        },
        {
          "output_type": "display_data",
          "data": {
            "application/vnd.jupyter.widget-view+json": {
              "model_id": "28d36b74d24c49e4951b558023dbfb26",
              "version_minor": 0,
              "version_major": 2
            },
            "text/plain": [
              "HBox(children=(IntProgress(value=0, max=594), HTML(value='')))"
            ]
          },
          "metadata": {
            "tags": []
          }
        },
        {
          "output_type": "stream",
          "text": [
            "\n",
            "All caught up..!\n"
          ],
          "name": "stdout"
        }
      ]
    },
    {
      "cell_type": "code",
      "metadata": {
        "id": "0_4jd1VzkAlH",
        "colab_type": "code",
        "colab": {
          "base_uri": "https://localhost:8080/",
          "height": 424
        },
        "outputId": "89666f6b-ced4-44ca-b5c3-e35024702a10"
      },
      "source": [
        "pd.read_csv(\"./XBTUSD-5m-data.csv\")"
      ],
      "execution_count": 12,
      "outputs": [
        {
          "output_type": "execute_result",
          "data": {
            "text/html": [
              "<div>\n",
              "<style scoped>\n",
              "    .dataframe tbody tr th:only-of-type {\n",
              "        vertical-align: middle;\n",
              "    }\n",
              "\n",
              "    .dataframe tbody tr th {\n",
              "        vertical-align: top;\n",
              "    }\n",
              "\n",
              "    .dataframe thead th {\n",
              "        text-align: right;\n",
              "    }\n",
              "</style>\n",
              "<table border=\"1\" class=\"dataframe\">\n",
              "  <thead>\n",
              "    <tr style=\"text-align: right;\">\n",
              "      <th></th>\n",
              "      <th>timestamp</th>\n",
              "      <th>symbol</th>\n",
              "      <th>open</th>\n",
              "      <th>high</th>\n",
              "      <th>low</th>\n",
              "      <th>close</th>\n",
              "      <th>trades</th>\n",
              "      <th>volume</th>\n",
              "      <th>vwap</th>\n",
              "      <th>lastSize</th>\n",
              "      <th>turnover</th>\n",
              "      <th>homeNotional</th>\n",
              "      <th>foreignNotional</th>\n",
              "    </tr>\n",
              "  </thead>\n",
              "  <tbody>\n",
              "    <tr>\n",
              "      <th>0</th>\n",
              "      <td>2015-09-25 12:05:00+00:00</td>\n",
              "      <td>XBTUSD</td>\n",
              "      <td>NaN</td>\n",
              "      <td>NaN</td>\n",
              "      <td>NaN</td>\n",
              "      <td>NaN</td>\n",
              "      <td>0</td>\n",
              "      <td>0</td>\n",
              "      <td>NaN</td>\n",
              "      <td>NaN</td>\n",
              "      <td>0</td>\n",
              "      <td>0.000000</td>\n",
              "      <td>0.0</td>\n",
              "    </tr>\n",
              "    <tr>\n",
              "      <th>1</th>\n",
              "      <td>2015-09-25 12:10:00+00:00</td>\n",
              "      <td>XBTUSD</td>\n",
              "      <td>NaN</td>\n",
              "      <td>NaN</td>\n",
              "      <td>NaN</td>\n",
              "      <td>NaN</td>\n",
              "      <td>0</td>\n",
              "      <td>0</td>\n",
              "      <td>NaN</td>\n",
              "      <td>NaN</td>\n",
              "      <td>0</td>\n",
              "      <td>0.000000</td>\n",
              "      <td>0.0</td>\n",
              "    </tr>\n",
              "    <tr>\n",
              "      <th>2</th>\n",
              "      <td>2015-09-25 12:15:00+00:00</td>\n",
              "      <td>XBTUSD</td>\n",
              "      <td>NaN</td>\n",
              "      <td>NaN</td>\n",
              "      <td>NaN</td>\n",
              "      <td>NaN</td>\n",
              "      <td>0</td>\n",
              "      <td>0</td>\n",
              "      <td>NaN</td>\n",
              "      <td>NaN</td>\n",
              "      <td>0</td>\n",
              "      <td>0.000000</td>\n",
              "      <td>0.0</td>\n",
              "    </tr>\n",
              "    <tr>\n",
              "      <th>3</th>\n",
              "      <td>2015-09-25 12:20:00+00:00</td>\n",
              "      <td>XBTUSD</td>\n",
              "      <td>NaN</td>\n",
              "      <td>NaN</td>\n",
              "      <td>NaN</td>\n",
              "      <td>NaN</td>\n",
              "      <td>0</td>\n",
              "      <td>0</td>\n",
              "      <td>NaN</td>\n",
              "      <td>NaN</td>\n",
              "      <td>0</td>\n",
              "      <td>0.000000</td>\n",
              "      <td>0.0</td>\n",
              "    </tr>\n",
              "    <tr>\n",
              "      <th>4</th>\n",
              "      <td>2015-09-25 12:25:00+00:00</td>\n",
              "      <td>XBTUSD</td>\n",
              "      <td>NaN</td>\n",
              "      <td>NaN</td>\n",
              "      <td>NaN</td>\n",
              "      <td>NaN</td>\n",
              "      <td>0</td>\n",
              "      <td>0</td>\n",
              "      <td>NaN</td>\n",
              "      <td>NaN</td>\n",
              "      <td>0</td>\n",
              "      <td>0.000000</td>\n",
              "      <td>0.0</td>\n",
              "    </tr>\n",
              "    <tr>\n",
              "      <th>...</th>\n",
              "      <td>...</td>\n",
              "      <td>...</td>\n",
              "      <td>...</td>\n",
              "      <td>...</td>\n",
              "      <td>...</td>\n",
              "      <td>...</td>\n",
              "      <td>...</td>\n",
              "      <td>...</td>\n",
              "      <td>...</td>\n",
              "      <td>...</td>\n",
              "      <td>...</td>\n",
              "      <td>...</td>\n",
              "      <td>...</td>\n",
              "    </tr>\n",
              "    <tr>\n",
              "      <th>444936</th>\n",
              "      <td>2019-12-18 10:05:00+00:00</td>\n",
              "      <td>XBTUSD</td>\n",
              "      <td>6626.5</td>\n",
              "      <td>6627.0</td>\n",
              "      <td>6618.5</td>\n",
              "      <td>6619.5</td>\n",
              "      <td>1867</td>\n",
              "      <td>7701044</td>\n",
              "      <td>6622.0780</td>\n",
              "      <td>50.0</td>\n",
              "      <td>116300429523</td>\n",
              "      <td>1163.004295</td>\n",
              "      <td>7701044.0</td>\n",
              "    </tr>\n",
              "    <tr>\n",
              "      <th>444937</th>\n",
              "      <td>2019-12-18 10:10:00+00:00</td>\n",
              "      <td>XBTUSD</td>\n",
              "      <td>6619.5</td>\n",
              "      <td>6623.5</td>\n",
              "      <td>6615.5</td>\n",
              "      <td>6615.5</td>\n",
              "      <td>1395</td>\n",
              "      <td>4672540</td>\n",
              "      <td>6621.2011</td>\n",
              "      <td>622.0</td>\n",
              "      <td>70573830493</td>\n",
              "      <td>705.738305</td>\n",
              "      <td>4672540.0</td>\n",
              "    </tr>\n",
              "    <tr>\n",
              "      <th>444938</th>\n",
              "      <td>2019-12-18 10:15:00+00:00</td>\n",
              "      <td>XBTUSD</td>\n",
              "      <td>6615.5</td>\n",
              "      <td>6640.0</td>\n",
              "      <td>6610.0</td>\n",
              "      <td>6629.0</td>\n",
              "      <td>3925</td>\n",
              "      <td>14074759</td>\n",
              "      <td>6628.2230</td>\n",
              "      <td>133.0</td>\n",
              "      <td>212353244058</td>\n",
              "      <td>2123.532441</td>\n",
              "      <td>14074759.0</td>\n",
              "    </tr>\n",
              "    <tr>\n",
              "      <th>444939</th>\n",
              "      <td>2019-12-18 10:20:00+00:00</td>\n",
              "      <td>XBTUSD</td>\n",
              "      <td>6629.0</td>\n",
              "      <td>6668.0</td>\n",
              "      <td>6629.0</td>\n",
              "      <td>6643.0</td>\n",
              "      <td>5777</td>\n",
              "      <td>20318419</td>\n",
              "      <td>6648.9362</td>\n",
              "      <td>49917.0</td>\n",
              "      <td>305603710118</td>\n",
              "      <td>3056.037101</td>\n",
              "      <td>20318419.0</td>\n",
              "    </tr>\n",
              "    <tr>\n",
              "      <th>444940</th>\n",
              "      <td>2019-12-18 10:25:00+00:00</td>\n",
              "      <td>XBTUSD</td>\n",
              "      <td>6643.0</td>\n",
              "      <td>6643.0</td>\n",
              "      <td>6631.5</td>\n",
              "      <td>6631.5</td>\n",
              "      <td>2070</td>\n",
              "      <td>6060225</td>\n",
              "      <td>6636.1404</td>\n",
              "      <td>2000.0</td>\n",
              "      <td>91325461378</td>\n",
              "      <td>913.254614</td>\n",
              "      <td>6060225.0</td>\n",
              "    </tr>\n",
              "  </tbody>\n",
              "</table>\n",
              "<p>444941 rows × 13 columns</p>\n",
              "</div>"
            ],
            "text/plain": [
              "                        timestamp  symbol  ...  homeNotional  foreignNotional\n",
              "0       2015-09-25 12:05:00+00:00  XBTUSD  ...      0.000000              0.0\n",
              "1       2015-09-25 12:10:00+00:00  XBTUSD  ...      0.000000              0.0\n",
              "2       2015-09-25 12:15:00+00:00  XBTUSD  ...      0.000000              0.0\n",
              "3       2015-09-25 12:20:00+00:00  XBTUSD  ...      0.000000              0.0\n",
              "4       2015-09-25 12:25:00+00:00  XBTUSD  ...      0.000000              0.0\n",
              "...                           ...     ...  ...           ...              ...\n",
              "444936  2019-12-18 10:05:00+00:00  XBTUSD  ...   1163.004295        7701044.0\n",
              "444937  2019-12-18 10:10:00+00:00  XBTUSD  ...    705.738305        4672540.0\n",
              "444938  2019-12-18 10:15:00+00:00  XBTUSD  ...   2123.532441       14074759.0\n",
              "444939  2019-12-18 10:20:00+00:00  XBTUSD  ...   3056.037101       20318419.0\n",
              "444940  2019-12-18 10:25:00+00:00  XBTUSD  ...    913.254614        6060225.0\n",
              "\n",
              "[444941 rows x 13 columns]"
            ]
          },
          "metadata": {
            "tags": []
          },
          "execution_count": 12
        }
      ]
    },
    {
      "cell_type": "code",
      "metadata": {
        "id": "V4C3euCUkMhu",
        "colab_type": "code",
        "colab": {}
      },
      "source": [
        "from google.colab import files\n",
        "files.download('XBTUSD-5m-data.csv')"
      ],
      "execution_count": 0,
      "outputs": []
    }
  ]
}